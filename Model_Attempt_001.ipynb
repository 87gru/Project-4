{
 "cells": [
  {
   "cell_type": "code",
   "execution_count": 1,
   "id": "e17447f2-3d26-4872-93ab-92cebd707800",
   "metadata": {},
   "outputs": [],
   "source": [
    "# Import dependencies\n",
    "import pandas as pd\n",
    "from sklearn.ensemble import RandomForestClassifier\n",
    "from sklearn.preprocessing import StandardScaler\n",
    "from sklearn.model_selection import train_test_split\n",
    "from sklearn.metrics import confusion_matrix, accuracy_score, classification_report"
   ]
  },
  {
   "cell_type": "markdown",
   "id": "41fbf234-fc64-4907-89f4-85c5f93a405c",
   "metadata": {},
   "source": [
    "## Import data"
   ]
  },
  {
   "cell_type": "code",
   "execution_count": 2,
   "id": "37885711-aabf-4480-ac1e-80cbb669a5b2",
   "metadata": {},
   "outputs": [
    {
     "data": {
      "text/html": [
       "<div>\n",
       "<style scoped>\n",
       "    .dataframe tbody tr th:only-of-type {\n",
       "        vertical-align: middle;\n",
       "    }\n",
       "\n",
       "    .dataframe tbody tr th {\n",
       "        vertical-align: top;\n",
       "    }\n",
       "\n",
       "    .dataframe thead th {\n",
       "        text-align: right;\n",
       "    }\n",
       "</style>\n",
       "<table border=\"1\" class=\"dataframe\">\n",
       "  <thead>\n",
       "    <tr style=\"text-align: right;\">\n",
       "      <th></th>\n",
       "      <th>Age</th>\n",
       "      <th>Attendance (%)</th>\n",
       "      <th>Midterm_Score</th>\n",
       "      <th>Final_Score</th>\n",
       "      <th>Assignments_Avg</th>\n",
       "      <th>Quizzes_Avg</th>\n",
       "      <th>Participation_Score</th>\n",
       "      <th>Projects_Score</th>\n",
       "      <th>Total_Score</th>\n",
       "      <th>Study_Hours_per_Week</th>\n",
       "      <th>...</th>\n",
       "      <th>Department_CS</th>\n",
       "      <th>Department_Engineering</th>\n",
       "      <th>Department_Mathematics</th>\n",
       "      <th>Extracurricular_Activities_No</th>\n",
       "      <th>Extracurricular_Activities_Yes</th>\n",
       "      <th>Internet_Access_at_Home_No</th>\n",
       "      <th>Internet_Access_at_Home_Yes</th>\n",
       "      <th>Family_Income_Level_High</th>\n",
       "      <th>Family_Income_Level_Low</th>\n",
       "      <th>Family_Income_Level_Medium</th>\n",
       "    </tr>\n",
       "  </thead>\n",
       "  <tbody>\n",
       "    <tr>\n",
       "      <th>0</th>\n",
       "      <td>22.0</td>\n",
       "      <td>52.29</td>\n",
       "      <td>55.03</td>\n",
       "      <td>57.82</td>\n",
       "      <td>84.220</td>\n",
       "      <td>74.06</td>\n",
       "      <td>3.99</td>\n",
       "      <td>85.90</td>\n",
       "      <td>56.09</td>\n",
       "      <td>6.2</td>\n",
       "      <td>...</td>\n",
       "      <td>0.0</td>\n",
       "      <td>1.0</td>\n",
       "      <td>0.0</td>\n",
       "      <td>1.0</td>\n",
       "      <td>0.0</td>\n",
       "      <td>0.0</td>\n",
       "      <td>1.0</td>\n",
       "      <td>0.0</td>\n",
       "      <td>0.0</td>\n",
       "      <td>1.0</td>\n",
       "    </tr>\n",
       "    <tr>\n",
       "      <th>1</th>\n",
       "      <td>18.0</td>\n",
       "      <td>97.27</td>\n",
       "      <td>97.23</td>\n",
       "      <td>45.80</td>\n",
       "      <td>65.644</td>\n",
       "      <td>94.24</td>\n",
       "      <td>8.32</td>\n",
       "      <td>55.65</td>\n",
       "      <td>50.64</td>\n",
       "      <td>19.0</td>\n",
       "      <td>...</td>\n",
       "      <td>0.0</td>\n",
       "      <td>1.0</td>\n",
       "      <td>0.0</td>\n",
       "      <td>1.0</td>\n",
       "      <td>0.0</td>\n",
       "      <td>0.0</td>\n",
       "      <td>1.0</td>\n",
       "      <td>0.0</td>\n",
       "      <td>0.0</td>\n",
       "      <td>1.0</td>\n",
       "    </tr>\n",
       "    <tr>\n",
       "      <th>2</th>\n",
       "      <td>24.0</td>\n",
       "      <td>57.19</td>\n",
       "      <td>67.05</td>\n",
       "      <td>93.68</td>\n",
       "      <td>67.700</td>\n",
       "      <td>85.70</td>\n",
       "      <td>5.05</td>\n",
       "      <td>73.79</td>\n",
       "      <td>70.30</td>\n",
       "      <td>20.7</td>\n",
       "      <td>...</td>\n",
       "      <td>0.0</td>\n",
       "      <td>0.0</td>\n",
       "      <td>0.0</td>\n",
       "      <td>1.0</td>\n",
       "      <td>0.0</td>\n",
       "      <td>0.0</td>\n",
       "      <td>1.0</td>\n",
       "      <td>0.0</td>\n",
       "      <td>1.0</td>\n",
       "      <td>0.0</td>\n",
       "    </tr>\n",
       "    <tr>\n",
       "      <th>3</th>\n",
       "      <td>24.0</td>\n",
       "      <td>95.15</td>\n",
       "      <td>47.79</td>\n",
       "      <td>80.63</td>\n",
       "      <td>66.060</td>\n",
       "      <td>93.51</td>\n",
       "      <td>6.54</td>\n",
       "      <td>92.12</td>\n",
       "      <td>61.63</td>\n",
       "      <td>24.8</td>\n",
       "      <td>...</td>\n",
       "      <td>0.0</td>\n",
       "      <td>0.0</td>\n",
       "      <td>1.0</td>\n",
       "      <td>0.0</td>\n",
       "      <td>1.0</td>\n",
       "      <td>0.0</td>\n",
       "      <td>1.0</td>\n",
       "      <td>1.0</td>\n",
       "      <td>0.0</td>\n",
       "      <td>0.0</td>\n",
       "    </tr>\n",
       "    <tr>\n",
       "      <th>4</th>\n",
       "      <td>23.0</td>\n",
       "      <td>54.18</td>\n",
       "      <td>46.59</td>\n",
       "      <td>78.89</td>\n",
       "      <td>96.850</td>\n",
       "      <td>83.70</td>\n",
       "      <td>5.97</td>\n",
       "      <td>68.42</td>\n",
       "      <td>66.13</td>\n",
       "      <td>15.4</td>\n",
       "      <td>...</td>\n",
       "      <td>1.0</td>\n",
       "      <td>0.0</td>\n",
       "      <td>0.0</td>\n",
       "      <td>0.0</td>\n",
       "      <td>1.0</td>\n",
       "      <td>0.0</td>\n",
       "      <td>1.0</td>\n",
       "      <td>1.0</td>\n",
       "      <td>0.0</td>\n",
       "      <td>0.0</td>\n",
       "    </tr>\n",
       "  </tbody>\n",
       "</table>\n",
       "<p>5 rows × 27 columns</p>\n",
       "</div>"
      ],
      "text/plain": [
       "    Age  Attendance (%)  Midterm_Score  Final_Score  Assignments_Avg  \\\n",
       "0  22.0           52.29          55.03        57.82           84.220   \n",
       "1  18.0           97.27          97.23        45.80           65.644   \n",
       "2  24.0           57.19          67.05        93.68           67.700   \n",
       "3  24.0           95.15          47.79        80.63           66.060   \n",
       "4  23.0           54.18          46.59        78.89           96.850   \n",
       "\n",
       "   Quizzes_Avg  Participation_Score  Projects_Score  Total_Score  \\\n",
       "0        74.06                 3.99           85.90        56.09   \n",
       "1        94.24                 8.32           55.65        50.64   \n",
       "2        85.70                 5.05           73.79        70.30   \n",
       "3        93.51                 6.54           92.12        61.63   \n",
       "4        83.70                 5.97           68.42        66.13   \n",
       "\n",
       "   Study_Hours_per_Week  ...  Department_CS  Department_Engineering  \\\n",
       "0                   6.2  ...            0.0                     1.0   \n",
       "1                  19.0  ...            0.0                     1.0   \n",
       "2                  20.7  ...            0.0                     0.0   \n",
       "3                  24.8  ...            0.0                     0.0   \n",
       "4                  15.4  ...            1.0                     0.0   \n",
       "\n",
       "   Department_Mathematics  Extracurricular_Activities_No  \\\n",
       "0                     0.0                            1.0   \n",
       "1                     0.0                            1.0   \n",
       "2                     0.0                            1.0   \n",
       "3                     1.0                            0.0   \n",
       "4                     0.0                            0.0   \n",
       "\n",
       "   Extracurricular_Activities_Yes  Internet_Access_at_Home_No  \\\n",
       "0                             0.0                         0.0   \n",
       "1                             0.0                         0.0   \n",
       "2                             0.0                         0.0   \n",
       "3                             1.0                         0.0   \n",
       "4                             1.0                         0.0   \n",
       "\n",
       "   Internet_Access_at_Home_Yes  Family_Income_Level_High  \\\n",
       "0                          1.0                       0.0   \n",
       "1                          1.0                       0.0   \n",
       "2                          1.0                       0.0   \n",
       "3                          1.0                       1.0   \n",
       "4                          1.0                       1.0   \n",
       "\n",
       "   Family_Income_Level_Low  Family_Income_Level_Medium  \n",
       "0                      0.0                         1.0  \n",
       "1                      0.0                         1.0  \n",
       "2                      1.0                         0.0  \n",
       "3                      0.0                         0.0  \n",
       "4                      0.0                         0.0  \n",
       "\n",
       "[5 rows x 27 columns]"
      ]
     },
     "execution_count": 2,
     "metadata": {},
     "output_type": "execute_result"
    }
   ],
   "source": [
    "# Read pre-processed csv file\n",
    "df = pd.read_csv('data/preprocessed_grades_data.csv')\n",
    "df.head()"
   ]
  },
  {
   "cell_type": "code",
   "execution_count": 3,
   "id": "fbbbd023-7103-46be-8774-6991d9ffb72d",
   "metadata": {},
   "outputs": [
    {
     "name": "stdout",
     "output_type": "stream",
     "text": [
      "<class 'pandas.core.frame.DataFrame'>\n",
      "RangeIndex: 5000 entries, 0 to 4999\n",
      "Data columns (total 26 columns):\n",
      " #   Column                          Non-Null Count  Dtype  \n",
      "---  ------                          --------------  -----  \n",
      " 0   Age                             5000 non-null   float64\n",
      " 1   Attendance (%)                  5000 non-null   float64\n",
      " 2   Midterm_Score                   5000 non-null   float64\n",
      " 3   Final_Score                     5000 non-null   float64\n",
      " 4   Assignments_Avg                 5000 non-null   float64\n",
      " 5   Quizzes_Avg                     5000 non-null   float64\n",
      " 6   Participation_Score             5000 non-null   float64\n",
      " 7   Projects_Score                  5000 non-null   float64\n",
      " 8   Total_Score                     5000 non-null   float64\n",
      " 9   Study_Hours_per_Week            5000 non-null   float64\n",
      " 10  Stress_Level (1-10)             5000 non-null   float64\n",
      " 11  Sleep_Hours_per_Night           5000 non-null   float64\n",
      " 12  Parent_Education_Level          5000 non-null   float64\n",
      " 13  Gender_Female                   5000 non-null   float64\n",
      " 14  Gender_Male                     5000 non-null   float64\n",
      " 15  Department_Business             5000 non-null   float64\n",
      " 16  Department_CS                   5000 non-null   float64\n",
      " 17  Department_Engineering          5000 non-null   float64\n",
      " 18  Department_Mathematics          5000 non-null   float64\n",
      " 19  Extracurricular_Activities_No   5000 non-null   float64\n",
      " 20  Extracurricular_Activities_Yes  5000 non-null   float64\n",
      " 21  Internet_Access_at_Home_No      5000 non-null   float64\n",
      " 22  Internet_Access_at_Home_Yes     5000 non-null   float64\n",
      " 23  Family_Income_Level_High        5000 non-null   float64\n",
      " 24  Family_Income_Level_Low         5000 non-null   float64\n",
      " 25  Family_Income_Level_Medium      5000 non-null   float64\n",
      "dtypes: float64(26)\n",
      "memory usage: 1015.8 KB\n"
     ]
    }
   ],
   "source": [
    "# Define features\n",
    "X = df.copy()\n",
    "X = X.drop(columns=['Encoded_Grade'])\n",
    "X.info()"
   ]
  },
  {
   "cell_type": "code",
   "execution_count": 4,
   "id": "6098bd79-31ea-4ad3-9997-8ede152016a8",
   "metadata": {},
   "outputs": [],
   "source": [
    "# Define target vector\n",
    "y = df['Encoded_Grade']"
   ]
  },
  {
   "cell_type": "markdown",
   "id": "f22a2361-625a-42d0-99da-882a98f3d5cc",
   "metadata": {},
   "source": [
    "## Split data into test/training sets"
   ]
  },
  {
   "cell_type": "code",
   "execution_count": 6,
   "id": "c4790b39-48b0-4d35-b800-0333b7355316",
   "metadata": {},
   "outputs": [],
   "source": [
    "# Splitting into Train and Test sets using train_test_split\n",
    "X_train, X_test, y_train, y_test = train_test_split(X, y, random_state=47)"
   ]
  },
  {
   "cell_type": "code",
   "execution_count": 7,
   "id": "0a148baf-ec95-4ac0-b964-25ca9d3f90ec",
   "metadata": {},
   "outputs": [],
   "source": [
    "# Creating StandardScaler instance\n",
    "scaler = StandardScaler()"
   ]
  },
  {
   "cell_type": "code",
   "execution_count": 8,
   "id": "1a7887d1-2f5f-4236-9d82-54eb178815b3",
   "metadata": {},
   "outputs": [],
   "source": [
    "# Fitting Standard Scaler\n",
    "X_scaler = scaler.fit(X_train)"
   ]
  },
  {
   "cell_type": "code",
   "execution_count": 9,
   "id": "3c30596d-922f-4b1b-a3a7-0bc6def4c8a0",
   "metadata": {},
   "outputs": [],
   "source": [
    "# Scaling data\n",
    "X_train_scaled = X_scaler.transform(X_train)\n",
    "X_test_scaled = X_scaler.transform(X_test)"
   ]
  },
  {
   "cell_type": "markdown",
   "id": "dbb4d483-260b-4fce-b070-f21af6bf0be4",
   "metadata": {},
   "source": [
    "## Fitting the Random Forest Model - Attempt 1"
   ]
  },
  {
   "cell_type": "code",
   "execution_count": 11,
   "id": "883489ee-cfb6-476b-808c-56fb99a1144c",
   "metadata": {},
   "outputs": [],
   "source": [
    "# Initiate RF\n",
    "rf_model = RandomForestClassifier(n_estimators=500, max_depth=8, random_state=47)"
   ]
  },
  {
   "cell_type": "code",
   "execution_count": 13,
   "id": "b89b4cd1-7c94-4297-80db-feffe403ac27",
   "metadata": {},
   "outputs": [],
   "source": [
    "# Fitting the model\n",
    "rf_model = rf_model.fit(X_train_scaled, y_train)"
   ]
  },
  {
   "cell_type": "code",
   "execution_count": 14,
   "id": "48539b63-2846-4bfd-b2e5-a7e509f013a4",
   "metadata": {},
   "outputs": [],
   "source": [
    "# Making predictions using the testing data\n",
    "predictions = rf_model.predict(X_test_scaled)"
   ]
  },
  {
   "cell_type": "code",
   "execution_count": 17,
   "id": "28ef02c2-b7e4-4772-aa8f-53d56c5b78db",
   "metadata": {},
   "outputs": [
    {
     "name": "stdout",
     "output_type": "stream",
     "text": [
      "Accuracy Score : 0.3704\n",
      "Classification Report\n",
      "              precision    recall  f1-score   support\n",
      "\n",
      "         0.0       0.54      0.70      0.61       368\n",
      "         1.0       0.26      0.04      0.06       243\n",
      "         2.0       0.14      0.05      0.07       213\n",
      "         3.0       0.30      0.57      0.40       214\n",
      "         4.0       0.24      0.30      0.27       212\n",
      "\n",
      "    accuracy                           0.37      1250\n",
      "   macro avg       0.30      0.33      0.28      1250\n",
      "weighted avg       0.33      0.37      0.32      1250\n",
      "\n"
     ]
    }
   ],
   "source": [
    "# Calculating the accuracy score\n",
    "acc_score = accuracy_score(y_test, predictions)\n",
    "\n",
    "# Displaying results\n",
    "print(f\"Accuracy Score : {acc_score}\")\n",
    "print(\"Classification Report\")\n",
    "print(classification_report(y_test, predictions))"
   ]
  },
  {
   "cell_type": "markdown",
   "id": "699a0456-1719-42fd-9662-b84f3d4e8090",
   "metadata": {},
   "source": [
    "## Not great!"
   ]
  },
  {
   "cell_type": "code",
   "execution_count": null,
   "id": "0b351a63-675d-4b69-810b-1dadfab116d9",
   "metadata": {},
   "outputs": [],
   "source": []
  }
 ],
 "metadata": {
  "kernelspec": {
   "display_name": "Python 3 (ipykernel)",
   "language": "python",
   "name": "python3"
  },
  "language_info": {
   "codemirror_mode": {
    "name": "ipython",
    "version": 3
   },
   "file_extension": ".py",
   "mimetype": "text/x-python",
   "name": "python",
   "nbconvert_exporter": "python",
   "pygments_lexer": "ipython3",
   "version": "3.10.14"
  }
 },
 "nbformat": 4,
 "nbformat_minor": 5
}
