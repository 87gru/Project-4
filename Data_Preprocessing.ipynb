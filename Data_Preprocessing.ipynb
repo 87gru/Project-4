{
 "cells": [
  {
   "cell_type": "markdown",
   "id": "5240c8a4-fa10-4679-b636-d254d2933753",
   "metadata": {},
   "source": [
    "# Preprocessing"
   ]
  },
  {
   "cell_type": "markdown",
   "id": "a6543b33-9741-43a8-a3e7-242438bfdf45",
   "metadata": {},
   "source": [
    "## Overview of Data"
   ]
  },
  {
   "cell_type": "code",
   "execution_count": 1,
   "id": "803f0ccb-9ca7-4b2e-b6e4-d053900a74b6",
   "metadata": {},
   "outputs": [],
   "source": [
    "# Import pandas\n",
    "import pandas as pd"
   ]
  },
  {
   "cell_type": "code",
   "execution_count": 2,
   "id": "eb5a30d3-35d7-474d-9847-754fe80f6f4e",
   "metadata": {},
   "outputs": [
    {
     "data": {
      "text/html": [
       "<div>\n",
       "<style scoped>\n",
       "    .dataframe tbody tr th:only-of-type {\n",
       "        vertical-align: middle;\n",
       "    }\n",
       "\n",
       "    .dataframe tbody tr th {\n",
       "        vertical-align: top;\n",
       "    }\n",
       "\n",
       "    .dataframe thead th {\n",
       "        text-align: right;\n",
       "    }\n",
       "</style>\n",
       "<table border=\"1\" class=\"dataframe\">\n",
       "  <thead>\n",
       "    <tr style=\"text-align: right;\">\n",
       "      <th></th>\n",
       "      <th>Student_ID</th>\n",
       "      <th>First_Name</th>\n",
       "      <th>Last_Name</th>\n",
       "      <th>Email</th>\n",
       "      <th>Gender</th>\n",
       "      <th>Age</th>\n",
       "      <th>Department</th>\n",
       "      <th>Attendance (%)</th>\n",
       "      <th>Midterm_Score</th>\n",
       "      <th>Final_Score</th>\n",
       "      <th>...</th>\n",
       "      <th>Projects_Score</th>\n",
       "      <th>Total_Score</th>\n",
       "      <th>Grade</th>\n",
       "      <th>Study_Hours_per_Week</th>\n",
       "      <th>Extracurricular_Activities</th>\n",
       "      <th>Internet_Access_at_Home</th>\n",
       "      <th>Parent_Education_Level</th>\n",
       "      <th>Family_Income_Level</th>\n",
       "      <th>Stress_Level (1-10)</th>\n",
       "      <th>Sleep_Hours_per_Night</th>\n",
       "    </tr>\n",
       "  </thead>\n",
       "  <tbody>\n",
       "    <tr>\n",
       "      <th>0</th>\n",
       "      <td>S1000</td>\n",
       "      <td>Omar</td>\n",
       "      <td>Williams</td>\n",
       "      <td>student0@university.com</td>\n",
       "      <td>Female</td>\n",
       "      <td>22</td>\n",
       "      <td>Engineering</td>\n",
       "      <td>52.29</td>\n",
       "      <td>55.03</td>\n",
       "      <td>57.82</td>\n",
       "      <td>...</td>\n",
       "      <td>85.90</td>\n",
       "      <td>56.09</td>\n",
       "      <td>F</td>\n",
       "      <td>6.2</td>\n",
       "      <td>No</td>\n",
       "      <td>Yes</td>\n",
       "      <td>High School</td>\n",
       "      <td>Medium</td>\n",
       "      <td>5</td>\n",
       "      <td>4.7</td>\n",
       "    </tr>\n",
       "    <tr>\n",
       "      <th>1</th>\n",
       "      <td>S1001</td>\n",
       "      <td>Maria</td>\n",
       "      <td>Brown</td>\n",
       "      <td>student1@university.com</td>\n",
       "      <td>Male</td>\n",
       "      <td>18</td>\n",
       "      <td>Engineering</td>\n",
       "      <td>97.27</td>\n",
       "      <td>97.23</td>\n",
       "      <td>45.80</td>\n",
       "      <td>...</td>\n",
       "      <td>55.65</td>\n",
       "      <td>50.64</td>\n",
       "      <td>A</td>\n",
       "      <td>19.0</td>\n",
       "      <td>No</td>\n",
       "      <td>Yes</td>\n",
       "      <td>NaN</td>\n",
       "      <td>Medium</td>\n",
       "      <td>4</td>\n",
       "      <td>9.0</td>\n",
       "    </tr>\n",
       "    <tr>\n",
       "      <th>2</th>\n",
       "      <td>S1002</td>\n",
       "      <td>Ahmed</td>\n",
       "      <td>Jones</td>\n",
       "      <td>student2@university.com</td>\n",
       "      <td>Male</td>\n",
       "      <td>24</td>\n",
       "      <td>Business</td>\n",
       "      <td>57.19</td>\n",
       "      <td>67.05</td>\n",
       "      <td>93.68</td>\n",
       "      <td>...</td>\n",
       "      <td>73.79</td>\n",
       "      <td>70.30</td>\n",
       "      <td>D</td>\n",
       "      <td>20.7</td>\n",
       "      <td>No</td>\n",
       "      <td>Yes</td>\n",
       "      <td>Master's</td>\n",
       "      <td>Low</td>\n",
       "      <td>6</td>\n",
       "      <td>6.2</td>\n",
       "    </tr>\n",
       "    <tr>\n",
       "      <th>3</th>\n",
       "      <td>S1003</td>\n",
       "      <td>Omar</td>\n",
       "      <td>Williams</td>\n",
       "      <td>student3@university.com</td>\n",
       "      <td>Female</td>\n",
       "      <td>24</td>\n",
       "      <td>Mathematics</td>\n",
       "      <td>95.15</td>\n",
       "      <td>47.79</td>\n",
       "      <td>80.63</td>\n",
       "      <td>...</td>\n",
       "      <td>92.12</td>\n",
       "      <td>61.63</td>\n",
       "      <td>A</td>\n",
       "      <td>24.8</td>\n",
       "      <td>Yes</td>\n",
       "      <td>Yes</td>\n",
       "      <td>High School</td>\n",
       "      <td>High</td>\n",
       "      <td>3</td>\n",
       "      <td>6.7</td>\n",
       "    </tr>\n",
       "    <tr>\n",
       "      <th>4</th>\n",
       "      <td>S1004</td>\n",
       "      <td>John</td>\n",
       "      <td>Smith</td>\n",
       "      <td>student4@university.com</td>\n",
       "      <td>Female</td>\n",
       "      <td>23</td>\n",
       "      <td>CS</td>\n",
       "      <td>54.18</td>\n",
       "      <td>46.59</td>\n",
       "      <td>78.89</td>\n",
       "      <td>...</td>\n",
       "      <td>68.42</td>\n",
       "      <td>66.13</td>\n",
       "      <td>F</td>\n",
       "      <td>15.4</td>\n",
       "      <td>Yes</td>\n",
       "      <td>Yes</td>\n",
       "      <td>High School</td>\n",
       "      <td>High</td>\n",
       "      <td>2</td>\n",
       "      <td>7.1</td>\n",
       "    </tr>\n",
       "  </tbody>\n",
       "</table>\n",
       "<p>5 rows × 23 columns</p>\n",
       "</div>"
      ],
      "text/plain": [
       "  Student_ID First_Name Last_Name                    Email  Gender  Age  \\\n",
       "0      S1000       Omar  Williams  student0@university.com  Female   22   \n",
       "1      S1001      Maria     Brown  student1@university.com    Male   18   \n",
       "2      S1002      Ahmed     Jones  student2@university.com    Male   24   \n",
       "3      S1003       Omar  Williams  student3@university.com  Female   24   \n",
       "4      S1004       John     Smith  student4@university.com  Female   23   \n",
       "\n",
       "    Department  Attendance (%)  Midterm_Score  Final_Score  ...  \\\n",
       "0  Engineering           52.29          55.03        57.82  ...   \n",
       "1  Engineering           97.27          97.23        45.80  ...   \n",
       "2     Business           57.19          67.05        93.68  ...   \n",
       "3  Mathematics           95.15          47.79        80.63  ...   \n",
       "4           CS           54.18          46.59        78.89  ...   \n",
       "\n",
       "   Projects_Score  Total_Score  Grade  Study_Hours_per_Week  \\\n",
       "0           85.90        56.09      F                   6.2   \n",
       "1           55.65        50.64      A                  19.0   \n",
       "2           73.79        70.30      D                  20.7   \n",
       "3           92.12        61.63      A                  24.8   \n",
       "4           68.42        66.13      F                  15.4   \n",
       "\n",
       "   Extracurricular_Activities Internet_Access_at_Home  Parent_Education_Level  \\\n",
       "0                          No                     Yes             High School   \n",
       "1                          No                     Yes                     NaN   \n",
       "2                          No                     Yes                Master's   \n",
       "3                         Yes                     Yes             High School   \n",
       "4                         Yes                     Yes             High School   \n",
       "\n",
       "  Family_Income_Level Stress_Level (1-10) Sleep_Hours_per_Night  \n",
       "0              Medium                   5                   4.7  \n",
       "1              Medium                   4                   9.0  \n",
       "2                 Low                   6                   6.2  \n",
       "3                High                   3                   6.7  \n",
       "4                High                   2                   7.1  \n",
       "\n",
       "[5 rows x 23 columns]"
      ]
     },
     "execution_count": 2,
     "metadata": {},
     "output_type": "execute_result"
    }
   ],
   "source": [
    "# Read CSV file\n",
    "df = pd.read_csv('data/original_dataset.csv')\n",
    "\n",
    "# Preview df\n",
    "df.head()"
   ]
  },
  {
   "cell_type": "code",
   "execution_count": 3,
   "id": "f6fe69dd-3355-44c0-8430-3bbe380f7abd",
   "metadata": {},
   "outputs": [
    {
     "name": "stdout",
     "output_type": "stream",
     "text": [
      "<class 'pandas.core.frame.DataFrame'>\n",
      "RangeIndex: 5000 entries, 0 to 4999\n",
      "Data columns (total 23 columns):\n",
      " #   Column                      Non-Null Count  Dtype  \n",
      "---  ------                      --------------  -----  \n",
      " 0   Student_ID                  5000 non-null   object \n",
      " 1   First_Name                  5000 non-null   object \n",
      " 2   Last_Name                   5000 non-null   object \n",
      " 3   Email                       5000 non-null   object \n",
      " 4   Gender                      5000 non-null   object \n",
      " 5   Age                         5000 non-null   int64  \n",
      " 6   Department                  5000 non-null   object \n",
      " 7   Attendance (%)              4484 non-null   float64\n",
      " 8   Midterm_Score               5000 non-null   float64\n",
      " 9   Final_Score                 5000 non-null   float64\n",
      " 10  Assignments_Avg             4483 non-null   float64\n",
      " 11  Quizzes_Avg                 5000 non-null   float64\n",
      " 12  Participation_Score         5000 non-null   float64\n",
      " 13  Projects_Score              5000 non-null   float64\n",
      " 14  Total_Score                 5000 non-null   float64\n",
      " 15  Grade                       5000 non-null   object \n",
      " 16  Study_Hours_per_Week        5000 non-null   float64\n",
      " 17  Extracurricular_Activities  5000 non-null   object \n",
      " 18  Internet_Access_at_Home     5000 non-null   object \n",
      " 19  Parent_Education_Level      3206 non-null   object \n",
      " 20  Family_Income_Level         5000 non-null   object \n",
      " 21  Stress_Level (1-10)         5000 non-null   int64  \n",
      " 22  Sleep_Hours_per_Night       5000 non-null   float64\n",
      "dtypes: float64(10), int64(2), object(11)\n",
      "memory usage: 898.6+ KB\n"
     ]
    }
   ],
   "source": [
    "# Review dataframe columns, datatypes, null values\n",
    "df.info()"
   ]
  },
  {
   "cell_type": "code",
   "execution_count": 4,
   "id": "f0f1a71e-e2b0-4bb4-989e-f8373171f93a",
   "metadata": {},
   "outputs": [
    {
     "data": {
      "text/plain": [
       "Student_ID                       0\n",
       "First_Name                       0\n",
       "Last_Name                        0\n",
       "Email                            0\n",
       "Gender                           0\n",
       "Age                              0\n",
       "Department                       0\n",
       "Attendance (%)                 516\n",
       "Midterm_Score                    0\n",
       "Final_Score                      0\n",
       "Assignments_Avg                517\n",
       "Quizzes_Avg                      0\n",
       "Participation_Score              0\n",
       "Projects_Score                   0\n",
       "Total_Score                      0\n",
       "Grade                            0\n",
       "Study_Hours_per_Week             0\n",
       "Extracurricular_Activities       0\n",
       "Internet_Access_at_Home          0\n",
       "Parent_Education_Level        1794\n",
       "Family_Income_Level              0\n",
       "Stress_Level (1-10)              0\n",
       "Sleep_Hours_per_Night            0\n",
       "dtype: int64"
      ]
     },
     "execution_count": 4,
     "metadata": {},
     "output_type": "execute_result"
    }
   ],
   "source": [
    "# Number of null values in DataFrame columns\n",
    "df.isnull().sum()"
   ]
  },
  {
   "cell_type": "code",
   "execution_count": 5,
   "id": "4b3517a5-f033-4be5-bae2-e6b8aef35a0f",
   "metadata": {},
   "outputs": [
    {
     "name": "stdout",
     "output_type": "stream",
     "text": [
      "Assignments_Avg does not look normally distributed\n",
      "Attendance (%) does not look normally distributed\n"
     ]
    }
   ],
   "source": [
    "# Use Shapiro-Wilk from scipy to test for normality in the numerical columns with null values. Omit NaN values.\n",
    "from scipy import stats\n",
    "\n",
    "# Test on Assignments_Avg dataseries\n",
    "sh_test1 = stats.shapiro(df['Assignments_Avg'], nan_policy= 'omit')\n",
    "\n",
    "# Test on Attendance (%) dataseries\n",
    "sh_test2 = stats.shapiro(df['Attendance (%)'], nan_policy= 'omit')\n",
    "\n",
    "# Interpret and print results\n",
    "alpha = 0.05\n",
    "\n",
    "if sh_test1.pvalue > alpha:\n",
    "    print(\"Assignments_Avg looks normally distributed\")\n",
    "else: print(\"Assignments_Avg does not look normally distributed\")\n",
    "\n",
    "if sh_test2.pvalue > alpha:\n",
    "    print(\"Attendance (%) looks normally distributed\")\n",
    "else: print(\"Attendance (%) does not look normally distributed\")"
   ]
  },
  {
   "cell_type": "code",
   "execution_count": 6,
   "id": "f731c8a5-01ea-469b-8843-7f1bb643b150",
   "metadata": {},
   "outputs": [
    {
     "data": {
      "text/plain": [
       "Parent_Education_Level\n",
       "PhD            820\n",
       "Bachelor's     810\n",
       "High School    796\n",
       "Master's       780\n",
       "Name: count, dtype: int64"
      ]
     },
     "execution_count": 6,
     "metadata": {},
     "output_type": "execute_result"
    }
   ],
   "source": [
    "# Check value_counts of Parent_Education_Level, which has 1794 null values\n",
    "df['Parent_Education_Level'].value_counts()"
   ]
  },
  {
   "cell_type": "markdown",
   "id": "302690c0-cfe2-4358-99c1-fa4f4d91d721",
   "metadata": {},
   "source": [
    "### Strategy regarding null values\n",
    "Since data is not normally distributed in both of these numeric columns, using the mean to impute data isn't a good idea. Using the median may introduce bias. Therefore, we will use `KNNImputer` ([documentation](https://scikit-learn.org/stable/modules/generated/sklearn.impute.KNNImputer.html)) to fill missing numeric values using k-nearest neighbors algorithm.\n",
    "\n",
    "With regard to categorical variable `Parent_Education_Level` which is 35% null values, we will encode the column with the following values:\n",
    "* 0 - `High School`\n",
    "* 1 - `Bachelor's`\n",
    "* 2 - `Master's`\n",
    "* 3 - `PhD`\n",
    "\n",
    "This numeric column will also be included in the `KNNImputer` strategy outlined above."
   ]
  },
  {
   "cell_type": "markdown",
   "id": "71c06fe6-c7dc-44b4-aeb5-2dfc9b763ae7",
   "metadata": {},
   "source": [
    "In ReadME, talk about other strategies considered for null values in `Parent_Education_Level`:\n",
    "\n",
    "* Impute the mode - inappropriate for machine learning, especially since the mode in this case is `PhD`\n",
    "* Create new class `Not Provided`, but this undermine an important relationship between the feature and the variable.\n",
    "* Dropping the column all together. 35% is a lot of missing data. This option may be considered while we train/test/evaluate the model."
   ]
  },
  {
   "cell_type": "markdown",
   "id": "dae731fb-37a6-4d30-92e9-f2e9ee7043c5",
   "metadata": {},
   "source": [
    "## Data Imputation"
   ]
  },
  {
   "cell_type": "markdown",
   "id": "67df5e4d-81c7-4c69-9df2-973561aa2f71",
   "metadata": {},
   "source": [
    "### Encoding"
   ]
  },
  {
   "cell_type": "code",
   "execution_count": 7,
   "id": "965b65cd-bf34-4c48-a435-e09ac332598c",
   "metadata": {},
   "outputs": [],
   "source": [
    "# Map the Parent_Education_Level data series, assign 0-4 value. Add as column to df. NaN values will remain.\n",
    "df['Parent_Education_Level_map'] = df['Parent_Education_Level'].map({\n",
    "    \"High School\":0,\n",
    "    \"Bachelor's\": 1,\n",
    "    \"Master's\": 2,\n",
    "    \"PhD\": 3})"
   ]
  },
  {
   "cell_type": "code",
   "execution_count": 8,
   "id": "2a8faef5-232b-4682-b1e0-fa25636106e4",
   "metadata": {},
   "outputs": [],
   "source": [
    "# Encode Grade (target variable) using `LabelEncoder`\n",
    "from sklearn.preprocessing import LabelEncoder\n",
    "\n",
    "# Initialize LabelEncoder\n",
    "encoder = LabelEncoder()\n",
    "\n",
    "# Use LabelEncoder on target variable. 0 = A, 1 = B, 2 = C, 3 = D, 4 = F. Add as a column in grades_df\n",
    "df['Encoded_Grade'] = encoder.fit_transform(df['Grade'])"
   ]
  },
  {
   "cell_type": "code",
   "execution_count": 9,
   "id": "8ef61869-5881-46bc-b1a7-546b97382e5f",
   "metadata": {},
   "outputs": [],
   "source": [
    "# Drop `Parent_Education_Level`, `Grade` columns and ID/email/name columns\n",
    "df = df[[x for x in df.columns.tolist() if x not in ('Student_ID','First_Name','Last_Name','Email','Grade','Parent_Education_Level')]]"
   ]
  },
  {
   "cell_type": "code",
   "execution_count": 10,
   "id": "e15f9801-52d7-4042-bb60-6eccc8fa7238",
   "metadata": {},
   "outputs": [],
   "source": [
    "# Generate categorical variable lists for encoding\n",
    "categorical = df.dtypes[df.dtypes == 'object'].index.tolist()"
   ]
  },
  {
   "cell_type": "code",
   "execution_count": 11,
   "id": "ad1d8974-43fd-48a0-ba94-fe6a1212d397",
   "metadata": {},
   "outputs": [
    {
     "data": {
      "text/plain": [
       "Gender                        2\n",
       "Department                    4\n",
       "Extracurricular_Activities    2\n",
       "Internet_Access_at_Home       2\n",
       "Family_Income_Level           3\n",
       "dtype: int64"
      ]
     },
     "execution_count": 11,
     "metadata": {},
     "output_type": "execute_result"
    }
   ],
   "source": [
    "# Check number of unique values in categorical variables\n",
    "df[categorical].nunique()"
   ]
  },
  {
   "cell_type": "code",
   "execution_count": null,
   "id": "958ec458-a108-47f4-84dd-ecc4e66e9106",
   "metadata": {},
   "outputs": [],
   "source": [
    "# Encode categorical variables using OneHotEncoder\n",
    "from sklearn.preprocessing import OneHotEncoder\n",
    "\n",
    "# Create a OneHotEncoder instance to encode remaining categorical variables\n",
    "enc = OneHotEncoder(sparse_output= False)\n",
    "\n",
    "# Fit and transform OneHotEncoder using categorical variables\n",
    "encode_df = pd.DataFrame(enc.fit_transform(df[categorical]))\n",
    "\n",
    "# Add the encoded variable names to the dataframe\n",
    "encode_df.columns = enc.get_feature_names_out(categorical)"
   ]
  },
  {
   "cell_type": "code",
   "execution_count": null,
   "id": "711b3e6c-37ae-428c-926e-e5427e71dd67",
   "metadata": {},
   "outputs": [],
   "source": [
    "# Use pd.concat to add columns with encoded values\n",
    "df2 = pd.concat([df,encode_df], axis=1)\n",
    "\n",
    "# Drop object columns\n",
    "df2 = df2.select_dtypes(exclude=['object'])"
   ]
  },
  {
   "cell_type": "code",
   "execution_count": null,
   "id": "7ef84db1-9ecb-4771-9b1a-a50710dea813",
   "metadata": {},
   "outputs": [],
   "source": [
    "# Review dataframe before imputation\n",
    "df2.info()"
   ]
  },
  {
   "cell_type": "markdown",
   "id": "1eed668f-3684-4b7c-86eb-13879d3ec135",
   "metadata": {},
   "source": [
    "### Imputing using `KNNImputer`"
   ]
  },
  {
   "cell_type": "code",
   "execution_count": null,
   "id": "1a0485a7-a8e4-44ed-ae22-85d7f838c154",
   "metadata": {},
   "outputs": [],
   "source": [
    "from sklearn.impute import KNNImputer\n",
    "\n",
    "# Initiate KNN Imputer setting nearest neighbors parameter to 10\n",
    "imputer = KNNImputer(n_neighbors=10)\n",
    "\n",
    "# Run imputer on DataFrame for missing values, then store results into a new DataFrame\n",
    "df_imputed = pd.DataFrame(imputer.fit_transform(df2), columns=[x for x in df2.columns])"
   ]
  },
  {
   "cell_type": "code",
   "execution_count": null,
   "id": "29e0b319-b90b-4826-94e6-69d2c1385e03",
   "metadata": {},
   "outputs": [],
   "source": [
    "# Rename Parent_Education_Level_map\n",
    "df_imputed = df_imputed.rename(columns={'Parent_Education_Level_map':'Parent_Education_Level'})\n",
    "\n",
    "# Round values in Parent_Education_Level to whole number\n",
    "df_imputed['Parent_Education_Level'] = df_imputed['Parent_Education_Level'].round()"
   ]
  },
  {
   "cell_type": "code",
   "execution_count": null,
   "id": "11e321b3-dbac-4fb8-a98a-103fc5d531fb",
   "metadata": {},
   "outputs": [],
   "source": [
    "# Review to confirm that there are no null values\n",
    "df_imputed.info()"
   ]
  },
  {
   "cell_type": "code",
   "execution_count": null,
   "id": "281b1a8e-1856-44f3-9dfe-08307964e186",
   "metadata": {},
   "outputs": [],
   "source": [
    "# Save df_imputed to csv for modeling\n",
    "df_imputed.to_csv('data/preprocessed_grades_data.csv',index=False)"
   ]
  }
 ],
 "metadata": {
  "kernelspec": {
   "display_name": "Python 3 (ipykernel)",
   "language": "python",
   "name": "python3"
  },
  "language_info": {
   "codemirror_mode": {
    "name": "ipython",
    "version": 3
   },
   "file_extension": ".py",
   "mimetype": "text/x-python",
   "name": "python",
   "nbconvert_exporter": "python",
   "pygments_lexer": "ipython3",
   "version": "3.10.14"
  }
 },
 "nbformat": 4,
 "nbformat_minor": 5
}
