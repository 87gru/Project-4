{
 "cells": [
  {
   "cell_type": "markdown",
   "id": "fb3bb430-bccf-4dc4-b8ff-b4c17a8896ea",
   "metadata": {},
   "source": [
    "# Feature Engineering and Exploratory Analysis"
   ]
  },
  {
   "cell_type": "markdown",
   "id": "aec7c449-8e5f-429a-841e-9a2c3f14c3cb",
   "metadata": {},
   "source": [
    "## Importing Data"
   ]
  },
  {
   "cell_type": "code",
   "execution_count": 1,
   "id": "ed4fccf2-062e-4d81-9938-561f4e0d4945",
   "metadata": {},
   "outputs": [],
   "source": [
    "# Import dependencies\n",
    "import pandas as pd\n",
    "import numpy as np\n",
    "import matplotlib.pyplot as plt\n",
    "import seaborn as sns"
   ]
  },
  {
   "cell_type": "code",
   "execution_count": 2,
   "id": "bc224dfe-a6aa-4cd7-881e-8de6779dcef2",
   "metadata": {},
   "outputs": [],
   "source": [
    "# Read in CSV files\n",
    "credit_df = pd.read_csv('data/credit_record.csv')\n",
    "app_df = pd.read_csv('data/application_record.csv')"
   ]
  },
  {
   "cell_type": "code",
   "execution_count": 3,
   "id": "ff489ad4-f88a-405a-9727-82b02193040d",
   "metadata": {},
   "outputs": [
    {
     "name": "stdout",
     "output_type": "stream",
     "text": [
      "<class 'pandas.core.frame.DataFrame'>\n",
      "RangeIndex: 1048575 entries, 0 to 1048574\n",
      "Data columns (total 3 columns):\n",
      " #   Column          Non-Null Count    Dtype \n",
      "---  ------          --------------    ----- \n",
      " 0   ID              1048575 non-null  int64 \n",
      " 1   MONTHS_BALANCE  1048575 non-null  int64 \n",
      " 2   STATUS          1048575 non-null  object\n",
      "dtypes: int64(2), object(1)\n",
      "memory usage: 24.0+ MB\n"
     ]
    }
   ],
   "source": [
    "# Show info for credit_record\n",
    "credit_df.info()"
   ]
  },
  {
   "cell_type": "code",
   "execution_count": 4,
   "id": "646f61cb-3e63-4c6d-983c-e0c550cf80b9",
   "metadata": {},
   "outputs": [
    {
     "name": "stdout",
     "output_type": "stream",
     "text": [
      "<class 'pandas.core.frame.DataFrame'>\n",
      "RangeIndex: 438557 entries, 0 to 438556\n",
      "Data columns (total 18 columns):\n",
      " #   Column               Non-Null Count   Dtype  \n",
      "---  ------               --------------   -----  \n",
      " 0   ID                   438557 non-null  int64  \n",
      " 1   CODE_GENDER          438557 non-null  object \n",
      " 2   FLAG_OWN_CAR         438557 non-null  object \n",
      " 3   FLAG_OWN_REALTY      438557 non-null  object \n",
      " 4   CNT_CHILDREN         438557 non-null  int64  \n",
      " 5   AMT_INCOME_TOTAL     438557 non-null  float64\n",
      " 6   NAME_INCOME_TYPE     438557 non-null  object \n",
      " 7   NAME_EDUCATION_TYPE  438557 non-null  object \n",
      " 8   NAME_FAMILY_STATUS   438557 non-null  object \n",
      " 9   NAME_HOUSING_TYPE    438557 non-null  object \n",
      " 10  DAYS_BIRTH           438557 non-null  int64  \n",
      " 11  DAYS_EMPLOYED        438557 non-null  int64  \n",
      " 12  FLAG_MOBIL           438557 non-null  int64  \n",
      " 13  FLAG_WORK_PHONE      438557 non-null  int64  \n",
      " 14  FLAG_PHONE           438557 non-null  int64  \n",
      " 15  FLAG_EMAIL           438557 non-null  int64  \n",
      " 16  OCCUPATION_TYPE      304354 non-null  object \n",
      " 17  CNT_FAM_MEMBERS      438557 non-null  float64\n",
      "dtypes: float64(2), int64(8), object(8)\n",
      "memory usage: 60.2+ MB\n"
     ]
    }
   ],
   "source": [
    "# Show application_record info\n",
    "app_df.info()"
   ]
  },
  {
   "cell_type": "markdown",
   "id": "0ff64208-c862-4028-99c9-87315e0cb477",
   "metadata": {},
   "source": [
    "**Note!** Presence of null values in `OCCUPATION_TYPE`"
   ]
  },
  {
   "cell_type": "markdown",
   "id": "068f13d3-4a3f-471e-9f60-c4cd027dd965",
   "metadata": {},
   "source": [
    "## Feature Engineering"
   ]
  },
  {
   "cell_type": "markdown",
   "id": "0da46b8e-4252-445a-a373-4fdefedd418c",
   "metadata": {},
   "source": [
    "`application_record.csv` contains application data from customers. Features include personal identifying info, demographic data, basic financial data. `credit_record.csv` contains loan histories for a subset of customers. \\\n",
    "This dataset is unique in that it is incumbent on our team to flag high-risk credit card applicants. In other words, we need to define the target variable."
   ]
  },
  {
   "cell_type": "code",
   "execution_count": 5,
   "id": "640f2d7a-2162-40e5-81a1-23494bdd2347",
   "metadata": {},
   "outputs": [
    {
     "data": {
      "text/html": [
       "<div>\n",
       "<style scoped>\n",
       "    .dataframe tbody tr th:only-of-type {\n",
       "        vertical-align: middle;\n",
       "    }\n",
       "\n",
       "    .dataframe tbody tr th {\n",
       "        vertical-align: top;\n",
       "    }\n",
       "\n",
       "    .dataframe thead th {\n",
       "        text-align: right;\n",
       "    }\n",
       "</style>\n",
       "<table border=\"1\" class=\"dataframe\">\n",
       "  <thead>\n",
       "    <tr style=\"text-align: right;\">\n",
       "      <th></th>\n",
       "      <th>ID</th>\n",
       "      <th>MONTHS_BALANCE</th>\n",
       "      <th>STATUS</th>\n",
       "    </tr>\n",
       "  </thead>\n",
       "  <tbody>\n",
       "    <tr>\n",
       "      <th>0</th>\n",
       "      <td>5001711</td>\n",
       "      <td>0</td>\n",
       "      <td>X</td>\n",
       "    </tr>\n",
       "    <tr>\n",
       "      <th>1</th>\n",
       "      <td>5001711</td>\n",
       "      <td>-1</td>\n",
       "      <td>0</td>\n",
       "    </tr>\n",
       "    <tr>\n",
       "      <th>2</th>\n",
       "      <td>5001711</td>\n",
       "      <td>-2</td>\n",
       "      <td>0</td>\n",
       "    </tr>\n",
       "    <tr>\n",
       "      <th>3</th>\n",
       "      <td>5001711</td>\n",
       "      <td>-3</td>\n",
       "      <td>0</td>\n",
       "    </tr>\n",
       "    <tr>\n",
       "      <th>4</th>\n",
       "      <td>5001712</td>\n",
       "      <td>0</td>\n",
       "      <td>C</td>\n",
       "    </tr>\n",
       "  </tbody>\n",
       "</table>\n",
       "</div>"
      ],
      "text/plain": [
       "        ID  MONTHS_BALANCE STATUS\n",
       "0  5001711               0      X\n",
       "1  5001711              -1      0\n",
       "2  5001711              -2      0\n",
       "3  5001711              -3      0\n",
       "4  5001712               0      C"
      ]
     },
     "execution_count": 5,
     "metadata": {},
     "output_type": "execute_result"
    }
   ],
   "source": [
    "# Preview credit_df\n",
    "credit_df.head()"
   ]
  },
  {
   "cell_type": "markdown",
   "id": "c991f770-2f6a-432b-b55e-c486aef9c2be",
   "metadata": {},
   "source": [
    "Per the dataset's documentation:\n",
    "* **0**: 1-29 days past due\n",
    "* **1**: 30-59 days past due\n",
    "* **2**: 60-89 days overdue\n",
    "* **3**: 90-119 days overdue\n",
    "* **4**: 120-149 days overdue\n",
    "* **5**: Overdue or bad debts, write-offs for more than 150 days\n",
    "* **C**: paid off that month\n",
    "* **X**: No loan for the month"
   ]
  },
  {
   "cell_type": "code",
   "execution_count": 6,
   "id": "a79d16ea-4455-4702-92d1-c38f0eed0f34",
   "metadata": {},
   "outputs": [
    {
     "data": {
      "text/html": [
       "<div>\n",
       "<style scoped>\n",
       "    .dataframe tbody tr th:only-of-type {\n",
       "        vertical-align: middle;\n",
       "    }\n",
       "\n",
       "    .dataframe tbody tr th {\n",
       "        vertical-align: top;\n",
       "    }\n",
       "\n",
       "    .dataframe thead th {\n",
       "        text-align: right;\n",
       "    }\n",
       "</style>\n",
       "<table border=\"1\" class=\"dataframe\">\n",
       "  <thead>\n",
       "    <tr style=\"text-align: right;\">\n",
       "      <th></th>\n",
       "      <th>ID</th>\n",
       "      <th>MONTHS_BALANCE</th>\n",
       "      <th>STATUS_NUM</th>\n",
       "    </tr>\n",
       "  </thead>\n",
       "  <tbody>\n",
       "    <tr>\n",
       "      <th>0</th>\n",
       "      <td>5001711</td>\n",
       "      <td>0</td>\n",
       "      <td>0</td>\n",
       "    </tr>\n",
       "    <tr>\n",
       "      <th>1</th>\n",
       "      <td>5001711</td>\n",
       "      <td>-1</td>\n",
       "      <td>1</td>\n",
       "    </tr>\n",
       "    <tr>\n",
       "      <th>2</th>\n",
       "      <td>5001711</td>\n",
       "      <td>-2</td>\n",
       "      <td>1</td>\n",
       "    </tr>\n",
       "    <tr>\n",
       "      <th>3</th>\n",
       "      <td>5001711</td>\n",
       "      <td>-3</td>\n",
       "      <td>1</td>\n",
       "    </tr>\n",
       "    <tr>\n",
       "      <th>4</th>\n",
       "      <td>5001712</td>\n",
       "      <td>0</td>\n",
       "      <td>0</td>\n",
       "    </tr>\n",
       "  </tbody>\n",
       "</table>\n",
       "</div>"
      ],
      "text/plain": [
       "        ID  MONTHS_BALANCE  STATUS_NUM\n",
       "0  5001711               0           0\n",
       "1  5001711              -1           1\n",
       "2  5001711              -2           1\n",
       "3  5001711              -3           1\n",
       "4  5001712               0           0"
      ]
     },
     "execution_count": 6,
     "metadata": {},
     "output_type": "execute_result"
    }
   ],
   "source": [
    "# Add a new column that maps `STATUS` to numeric values\n",
    "credit_df['STATUS_NUM'] = credit_df['STATUS'].map({\n",
    "    'X':0,\n",
    "    'C':0,\n",
    "    '0':1,\n",
    "    '1':2,\n",
    "    '2':3,\n",
    "    '3':4,\n",
    "    '4':5,\n",
    "    '5':6})\n",
    "\n",
    "# Drop original STATUS column\n",
    "credit_df = credit_df.drop(columns={'STATUS'})\n",
    "\n",
    "credit_df.head()"
   ]
  },
  {
   "cell_type": "markdown",
   "id": "7aa2ef84-7e27-4cc8-bcc2-a36ee73b9859",
   "metadata": {},
   "source": [
    "Accounts that are 60+ days past due will be considered delinquent."
   ]
  },
  {
   "cell_type": "code",
   "execution_count": 7,
   "id": "7ceee180-8221-45ca-b7dc-33ec9ae90a89",
   "metadata": {},
   "outputs": [],
   "source": [
    "# Add Delinquent column. If Status_Num > 1, add 1 to column. Otherwise, 0.\n",
    "credit_df['DELINQUENT'] = credit_df['STATUS_NUM'].apply(lambda x: 1 if x > 1 else 0)"
   ]
  },
  {
   "cell_type": "code",
   "execution_count": 8,
   "id": "e35e55d2-200e-43ed-9913-e029c459a9e5",
   "metadata": {},
   "outputs": [
    {
     "data": {
      "text/html": [
       "<div>\n",
       "<style scoped>\n",
       "    .dataframe tbody tr th:only-of-type {\n",
       "        vertical-align: middle;\n",
       "    }\n",
       "\n",
       "    .dataframe tbody tr th {\n",
       "        vertical-align: top;\n",
       "    }\n",
       "\n",
       "    .dataframe thead th {\n",
       "        text-align: right;\n",
       "    }\n",
       "</style>\n",
       "<table border=\"1\" class=\"dataframe\">\n",
       "  <thead>\n",
       "    <tr style=\"text-align: right;\">\n",
       "      <th></th>\n",
       "      <th>ID</th>\n",
       "      <th>MONTHS_BALANCE</th>\n",
       "      <th>STATUS_NUM</th>\n",
       "      <th>DELINQUENT</th>\n",
       "    </tr>\n",
       "  </thead>\n",
       "  <tbody>\n",
       "    <tr>\n",
       "      <th>150</th>\n",
       "      <td>5001718</td>\n",
       "      <td>-8</td>\n",
       "      <td>2</td>\n",
       "      <td>1</td>\n",
       "    </tr>\n",
       "    <tr>\n",
       "      <th>154</th>\n",
       "      <td>5001718</td>\n",
       "      <td>-12</td>\n",
       "      <td>2</td>\n",
       "      <td>1</td>\n",
       "    </tr>\n",
       "    <tr>\n",
       "      <th>224</th>\n",
       "      <td>5001720</td>\n",
       "      <td>0</td>\n",
       "      <td>2</td>\n",
       "      <td>1</td>\n",
       "    </tr>\n",
       "    <tr>\n",
       "      <th>227</th>\n",
       "      <td>5001720</td>\n",
       "      <td>-3</td>\n",
       "      <td>2</td>\n",
       "      <td>1</td>\n",
       "    </tr>\n",
       "    <tr>\n",
       "      <th>228</th>\n",
       "      <td>5001720</td>\n",
       "      <td>-4</td>\n",
       "      <td>2</td>\n",
       "      <td>1</td>\n",
       "    </tr>\n",
       "  </tbody>\n",
       "</table>\n",
       "</div>"
      ],
      "text/plain": [
       "          ID  MONTHS_BALANCE  STATUS_NUM  DELINQUENT\n",
       "150  5001718              -8           2           1\n",
       "154  5001718             -12           2           1\n",
       "224  5001720               0           2           1\n",
       "227  5001720              -3           2           1\n",
       "228  5001720              -4           2           1"
      ]
     },
     "execution_count": 8,
     "metadata": {},
     "output_type": "execute_result"
    }
   ],
   "source": [
    "# Check dataframe\n",
    "credit_df[credit_df['STATUS_NUM'] > 1].head()"
   ]
  },
  {
   "cell_type": "code",
   "execution_count": 9,
   "id": "e16bd16a-e216-44ec-908a-f9859e949145",
   "metadata": {},
   "outputs": [
    {
     "data": {
      "text/html": [
       "<div>\n",
       "<style scoped>\n",
       "    .dataframe tbody tr th:only-of-type {\n",
       "        vertical-align: middle;\n",
       "    }\n",
       "\n",
       "    .dataframe tbody tr th {\n",
       "        vertical-align: top;\n",
       "    }\n",
       "\n",
       "    .dataframe thead th {\n",
       "        text-align: right;\n",
       "    }\n",
       "</style>\n",
       "<table border=\"1\" class=\"dataframe\">\n",
       "  <thead>\n",
       "    <tr style=\"text-align: right;\">\n",
       "      <th></th>\n",
       "      <th>ID</th>\n",
       "      <th>FIRST_MONTH</th>\n",
       "    </tr>\n",
       "  </thead>\n",
       "  <tbody>\n",
       "    <tr>\n",
       "      <th>0</th>\n",
       "      <td>5001711</td>\n",
       "      <td>-3</td>\n",
       "    </tr>\n",
       "    <tr>\n",
       "      <th>1</th>\n",
       "      <td>5001712</td>\n",
       "      <td>-18</td>\n",
       "    </tr>\n",
       "    <tr>\n",
       "      <th>2</th>\n",
       "      <td>5001713</td>\n",
       "      <td>-21</td>\n",
       "    </tr>\n",
       "    <tr>\n",
       "      <th>3</th>\n",
       "      <td>5001714</td>\n",
       "      <td>-14</td>\n",
       "    </tr>\n",
       "    <tr>\n",
       "      <th>4</th>\n",
       "      <td>5001715</td>\n",
       "      <td>-59</td>\n",
       "    </tr>\n",
       "  </tbody>\n",
       "</table>\n",
       "</div>"
      ],
      "text/plain": [
       "        ID  FIRST_MONTH\n",
       "0  5001711           -3\n",
       "1  5001712          -18\n",
       "2  5001713          -21\n",
       "3  5001714          -14\n",
       "4  5001715          -59"
      ]
     },
     "execution_count": 9,
     "metadata": {},
     "output_type": "execute_result"
    }
   ],
   "source": [
    "# Group by ID, then get the earliest month. Rename column. Make this into a DF for merging\n",
    "earliest = pd.DataFrame(credit_df.groupby(['ID'])['MONTHS_BALANCE'].min()).reset_index()\n",
    "earliest = earliest.rename(columns={'MONTHS_BALANCE':'FIRST_MONTH'})\n",
    "earliest.head()"
   ]
  },
  {
   "cell_type": "code",
   "execution_count": 10,
   "id": "358f7f03-0f4b-46a6-9ebc-21f1a6a6e2b7",
   "metadata": {},
   "outputs": [
    {
     "data": {
      "text/html": [
       "<div>\n",
       "<style scoped>\n",
       "    .dataframe tbody tr th:only-of-type {\n",
       "        vertical-align: middle;\n",
       "    }\n",
       "\n",
       "    .dataframe tbody tr th {\n",
       "        vertical-align: top;\n",
       "    }\n",
       "\n",
       "    .dataframe thead th {\n",
       "        text-align: right;\n",
       "    }\n",
       "</style>\n",
       "<table border=\"1\" class=\"dataframe\">\n",
       "  <thead>\n",
       "    <tr style=\"text-align: right;\">\n",
       "      <th></th>\n",
       "      <th>ID</th>\n",
       "      <th>FINAL_MONTH</th>\n",
       "    </tr>\n",
       "  </thead>\n",
       "  <tbody>\n",
       "    <tr>\n",
       "      <th>0</th>\n",
       "      <td>5001711</td>\n",
       "      <td>0</td>\n",
       "    </tr>\n",
       "    <tr>\n",
       "      <th>1</th>\n",
       "      <td>5001712</td>\n",
       "      <td>0</td>\n",
       "    </tr>\n",
       "    <tr>\n",
       "      <th>2</th>\n",
       "      <td>5001713</td>\n",
       "      <td>0</td>\n",
       "    </tr>\n",
       "    <tr>\n",
       "      <th>3</th>\n",
       "      <td>5001714</td>\n",
       "      <td>0</td>\n",
       "    </tr>\n",
       "    <tr>\n",
       "      <th>4</th>\n",
       "      <td>5001715</td>\n",
       "      <td>0</td>\n",
       "    </tr>\n",
       "  </tbody>\n",
       "</table>\n",
       "</div>"
      ],
      "text/plain": [
       "        ID  FINAL_MONTH\n",
       "0  5001711            0\n",
       "1  5001712            0\n",
       "2  5001713            0\n",
       "3  5001714            0\n",
       "4  5001715            0"
      ]
     },
     "execution_count": 10,
     "metadata": {},
     "output_type": "execute_result"
    }
   ],
   "source": [
    "# Get every customer's last month in the dataset\n",
    "last_month = pd.DataFrame(credit_df.groupby('ID')['MONTHS_BALANCE'].max()).reset_index()\n",
    "last_month = last_month.rename(columns={'MONTHS_BALANCE':'FINAL_MONTH'})\n",
    "last_month.head()"
   ]
  },
  {
   "cell_type": "code",
   "execution_count": 11,
   "id": "8a964628-bfc9-47ec-903c-711556b526da",
   "metadata": {},
   "outputs": [
    {
     "data": {
      "text/html": [
       "<div>\n",
       "<style scoped>\n",
       "    .dataframe tbody tr th:only-of-type {\n",
       "        vertical-align: middle;\n",
       "    }\n",
       "\n",
       "    .dataframe tbody tr th {\n",
       "        vertical-align: top;\n",
       "    }\n",
       "\n",
       "    .dataframe thead th {\n",
       "        text-align: right;\n",
       "    }\n",
       "</style>\n",
       "<table border=\"1\" class=\"dataframe\">\n",
       "  <thead>\n",
       "    <tr style=\"text-align: right;\">\n",
       "      <th></th>\n",
       "      <th>ID</th>\n",
       "      <th>NUM_OF_MONTHS</th>\n",
       "    </tr>\n",
       "  </thead>\n",
       "  <tbody>\n",
       "    <tr>\n",
       "      <th>0</th>\n",
       "      <td>5001711</td>\n",
       "      <td>4</td>\n",
       "    </tr>\n",
       "    <tr>\n",
       "      <th>1</th>\n",
       "      <td>5001712</td>\n",
       "      <td>19</td>\n",
       "    </tr>\n",
       "    <tr>\n",
       "      <th>2</th>\n",
       "      <td>5001713</td>\n",
       "      <td>22</td>\n",
       "    </tr>\n",
       "    <tr>\n",
       "      <th>3</th>\n",
       "      <td>5001714</td>\n",
       "      <td>15</td>\n",
       "    </tr>\n",
       "    <tr>\n",
       "      <th>4</th>\n",
       "      <td>5001715</td>\n",
       "      <td>60</td>\n",
       "    </tr>\n",
       "  </tbody>\n",
       "</table>\n",
       "</div>"
      ],
      "text/plain": [
       "        ID  NUM_OF_MONTHS\n",
       "0  5001711              4\n",
       "1  5001712             19\n",
       "2  5001713             22\n",
       "3  5001714             15\n",
       "4  5001715             60"
      ]
     },
     "execution_count": 11,
     "metadata": {},
     "output_type": "execute_result"
    }
   ],
   "source": [
    "# Get total number of months of activity for every customer\n",
    "customer_count = pd.DataFrame(credit_df.groupby('ID')['STATUS_NUM'].count()).reset_index()\n",
    "customer_count = customer_count.rename(columns={'STATUS_NUM':'NUM_OF_MONTHS'})\n",
    "customer_count.head()"
   ]
  },
  {
   "cell_type": "code",
   "execution_count": 12,
   "id": "e906e454-825b-4a76-8fd3-34652d77f97c",
   "metadata": {},
   "outputs": [
    {
     "data": {
      "text/html": [
       "<div>\n",
       "<style scoped>\n",
       "    .dataframe tbody tr th:only-of-type {\n",
       "        vertical-align: middle;\n",
       "    }\n",
       "\n",
       "    .dataframe tbody tr th {\n",
       "        vertical-align: top;\n",
       "    }\n",
       "\n",
       "    .dataframe thead th {\n",
       "        text-align: right;\n",
       "    }\n",
       "</style>\n",
       "<table border=\"1\" class=\"dataframe\">\n",
       "  <thead>\n",
       "    <tr style=\"text-align: right;\">\n",
       "      <th></th>\n",
       "      <th>ID</th>\n",
       "      <th>NUM_OF_DLQ_MONTHS</th>\n",
       "    </tr>\n",
       "  </thead>\n",
       "  <tbody>\n",
       "    <tr>\n",
       "      <th>0</th>\n",
       "      <td>5001711</td>\n",
       "      <td>0</td>\n",
       "    </tr>\n",
       "    <tr>\n",
       "      <th>1</th>\n",
       "      <td>5001712</td>\n",
       "      <td>0</td>\n",
       "    </tr>\n",
       "    <tr>\n",
       "      <th>2</th>\n",
       "      <td>5001713</td>\n",
       "      <td>0</td>\n",
       "    </tr>\n",
       "    <tr>\n",
       "      <th>3</th>\n",
       "      <td>5001714</td>\n",
       "      <td>0</td>\n",
       "    </tr>\n",
       "    <tr>\n",
       "      <th>4</th>\n",
       "      <td>5001715</td>\n",
       "      <td>0</td>\n",
       "    </tr>\n",
       "  </tbody>\n",
       "</table>\n",
       "</div>"
      ],
      "text/plain": [
       "        ID  NUM_OF_DLQ_MONTHS\n",
       "0  5001711                  0\n",
       "1  5001712                  0\n",
       "2  5001713                  0\n",
       "3  5001714                  0\n",
       "4  5001715                  0"
      ]
     },
     "execution_count": 12,
     "metadata": {},
     "output_type": "execute_result"
    }
   ],
   "source": [
    "# Get sum of delinquent months from dlq_df\n",
    "dlq_count = pd.DataFrame(credit_df.groupby('ID')['DELINQUENT'].sum()).reset_index()\n",
    "dlq_count = dlq_count.rename(columns={'DELINQUENT':'NUM_OF_DLQ_MONTHS'})\n",
    "dlq_count.head()"
   ]
  },
  {
   "cell_type": "code",
   "execution_count": 13,
   "id": "a2b46576-2cba-40ff-8803-95f83f562339",
   "metadata": {},
   "outputs": [],
   "source": [
    "# Merge dataframes into new df. Reorder columns\n",
    "customer_sum = earliest.merge(last_month, on='ID', how='left')\n",
    "customer_sum = customer_sum.merge(dlq_count, on='ID', how='left')\n",
    "customer_sum = customer_sum.merge(customer_count, on='ID', how='left')\n",
    "customer_sum = customer_sum[['ID','FIRST_MONTH','FINAL_MONTH','NUM_OF_MONTHS','NUM_OF_DLQ_MONTHS']]"
   ]
  },
  {
   "cell_type": "code",
   "execution_count": 14,
   "id": "c88550a6-213b-4ee6-8e09-2b85b181cfea",
   "metadata": {},
   "outputs": [
    {
     "data": {
      "text/html": [
       "<div>\n",
       "<style scoped>\n",
       "    .dataframe tbody tr th:only-of-type {\n",
       "        vertical-align: middle;\n",
       "    }\n",
       "\n",
       "    .dataframe tbody tr th {\n",
       "        vertical-align: top;\n",
       "    }\n",
       "\n",
       "    .dataframe thead th {\n",
       "        text-align: right;\n",
       "    }\n",
       "</style>\n",
       "<table border=\"1\" class=\"dataframe\">\n",
       "  <thead>\n",
       "    <tr style=\"text-align: right;\">\n",
       "      <th></th>\n",
       "      <th>ID</th>\n",
       "      <th>FIRST_MONTH</th>\n",
       "      <th>FINAL_MONTH</th>\n",
       "      <th>NUM_OF_MONTHS</th>\n",
       "      <th>NUM_OF_DLQ_MONTHS</th>\n",
       "    </tr>\n",
       "  </thead>\n",
       "  <tbody>\n",
       "    <tr>\n",
       "      <th>0</th>\n",
       "      <td>5001711</td>\n",
       "      <td>-3</td>\n",
       "      <td>0</td>\n",
       "      <td>4</td>\n",
       "      <td>0</td>\n",
       "    </tr>\n",
       "    <tr>\n",
       "      <th>1</th>\n",
       "      <td>5001712</td>\n",
       "      <td>-18</td>\n",
       "      <td>0</td>\n",
       "      <td>19</td>\n",
       "      <td>0</td>\n",
       "    </tr>\n",
       "    <tr>\n",
       "      <th>2</th>\n",
       "      <td>5001713</td>\n",
       "      <td>-21</td>\n",
       "      <td>0</td>\n",
       "      <td>22</td>\n",
       "      <td>0</td>\n",
       "    </tr>\n",
       "    <tr>\n",
       "      <th>3</th>\n",
       "      <td>5001714</td>\n",
       "      <td>-14</td>\n",
       "      <td>0</td>\n",
       "      <td>15</td>\n",
       "      <td>0</td>\n",
       "    </tr>\n",
       "    <tr>\n",
       "      <th>4</th>\n",
       "      <td>5001715</td>\n",
       "      <td>-59</td>\n",
       "      <td>0</td>\n",
       "      <td>60</td>\n",
       "      <td>0</td>\n",
       "    </tr>\n",
       "  </tbody>\n",
       "</table>\n",
       "</div>"
      ],
      "text/plain": [
       "        ID  FIRST_MONTH  FINAL_MONTH  NUM_OF_MONTHS  NUM_OF_DLQ_MONTHS\n",
       "0  5001711           -3            0              4                  0\n",
       "1  5001712          -18            0             19                  0\n",
       "2  5001713          -21            0             22                  0\n",
       "3  5001714          -14            0             15                  0\n",
       "4  5001715          -59            0             60                  0"
      ]
     },
     "execution_count": 14,
     "metadata": {},
     "output_type": "execute_result"
    }
   ],
   "source": [
    "# Preview dataframe\n",
    "customer_sum.head()"
   ]
  },
  {
   "cell_type": "code",
   "execution_count": 15,
   "id": "92cac01e-ac89-4b1e-b210-13269786a8f6",
   "metadata": {},
   "outputs": [],
   "source": [
    "# Calculate delinquency percentage\n",
    "customer_sum['DLQ_PERCENT'] = customer_sum['NUM_OF_DLQ_MONTHS'] / customer_sum['NUM_OF_MONTHS']\n",
    "\n",
    "# Fill NaN (div/0) with 0\n",
    "customer_sum = customer_sum.fillna(0)"
   ]
  },
  {
   "cell_type": "code",
   "execution_count": 16,
   "id": "9a07e6fe-71ad-43db-bc6c-9f5fbb3539ac",
   "metadata": {},
   "outputs": [
    {
     "data": {
      "image/png": "[encoded data removed]",
      "text/plain": [
       "<Figure size 800x600 with 1 Axes>"
      ]
     },
     "metadata": {},
     "output_type": "display_data"
    }
   ],
   "source": [
    "# Plot the distribution\n",
    "plt.figure(figsize=(8, 6))\n",
    "plt.hist(customer_sum['DLQ_PERCENT'], bins=5, edgecolor='black', color='skyblue')\n",
    "plt.title('Distribution of Delinquency Percentages')\n",
    "plt.xlabel('Percentage of Delinquency')\n",
    "plt.ylabel('Frequency')\n",
    "plt.show()"
   ]
  },
  {
   "cell_type": "code",
   "execution_count": 17,
   "id": "075ab03e-45d5-4727-9cfa-e0e40b3f2b67",
   "metadata": {},
   "outputs": [
    {
     "data": {
      "text/plain": [
       "0.029792323583777317"
      ]
     },
     "execution_count": 17,
     "metadata": {},
     "output_type": "execute_result"
    }
   ],
   "source": [
    "# Using 15% as the cutoff, check percentage of delinquent customers out of total number of customers\n",
    "len(customer_sum[customer_sum['DLQ_PERCENT'] >= 0.15]) / len(customer_sum)"
   ]
  },
  {
   "cell_type": "markdown",
   "id": "db800d4c-bea7-4d5e-bf06-ebc7c33916dd",
   "metadata": {},
   "source": [
    "3% seem in line with research.\n",
    "> According to recent data from the Federal Reserve, the delinquency rate on consumer loans at commercial banks in the US is currently around 2.75%. This means that approximately 2.75% of all consumer loans at commercial banks are considered delinquent."
   ]
  },
  {
   "cell_type": "code",
   "execution_count": 18,
   "id": "94363aef-f257-4624-b335-ef957eaff31d",
   "metadata": {},
   "outputs": [],
   "source": [
    "# Create RISK_FLAG column. If NUM_OF_MONTHS <= 2, no flag. Account is too young.\n",
    "# If account has more than 2 months on record and DLQ_PERCENT >= 0.15, RISK_FLAG should be 1.\n",
    "\n",
    "# Define conditions list\n",
    "conditions = [\n",
    "    (customer_sum['NUM_OF_MONTHS'] <= 2), # should be 0\n",
    "    (customer_sum['NUM_OF_MONTHS'] > 2) & (customer_sum['DLQ_PERCENT'] >= 0.15)] # should be 1\n",
    "\n",
    "# Define choices\n",
    "choices = [0,1]\n",
    "\n",
    "# Create column using np.select. Everything not matching above conditions will be labeled 0.\n",
    "customer_sum['RISK_FLAG'] = np.select(conditions,choices,0)"
   ]
  },
  {
   "cell_type": "code",
   "execution_count": 19,
   "id": "4d6fc3fc-bd0c-436a-b436-6f2896a31d99",
   "metadata": {},
   "outputs": [
    {
     "data": {
      "text/html": [
       "<div>\n",
       "<style scoped>\n",
       "    .dataframe tbody tr th:only-of-type {\n",
       "        vertical-align: middle;\n",
       "    }\n",
       "\n",
       "    .dataframe tbody tr th {\n",
       "        vertical-align: top;\n",
       "    }\n",
       "\n",
       "    .dataframe thead th {\n",
       "        text-align: right;\n",
       "    }\n",
       "</style>\n",
       "<table border=\"1\" class=\"dataframe\">\n",
       "  <thead>\n",
       "    <tr style=\"text-align: right;\">\n",
       "      <th></th>\n",
       "      <th>ID</th>\n",
       "      <th>FIRST_MONTH</th>\n",
       "      <th>FINAL_MONTH</th>\n",
       "      <th>NUM_OF_MONTHS</th>\n",
       "      <th>NUM_OF_DLQ_MONTHS</th>\n",
       "      <th>DLQ_PERCENT</th>\n",
       "      <th>RISK_FLAG</th>\n",
       "    </tr>\n",
       "  </thead>\n",
       "  <tbody>\n",
       "    <tr>\n",
       "      <th>0</th>\n",
       "      <td>5001711</td>\n",
       "      <td>-3</td>\n",
       "      <td>0</td>\n",
       "      <td>4</td>\n",
       "      <td>0</td>\n",
       "      <td>0.000000</td>\n",
       "      <td>0</td>\n",
       "    </tr>\n",
       "    <tr>\n",
       "      <th>1</th>\n",
       "      <td>5001712</td>\n",
       "      <td>-18</td>\n",
       "      <td>0</td>\n",
       "      <td>19</td>\n",
       "      <td>0</td>\n",
       "      <td>0.000000</td>\n",
       "      <td>0</td>\n",
       "    </tr>\n",
       "    <tr>\n",
       "      <th>2</th>\n",
       "      <td>5001713</td>\n",
       "      <td>-21</td>\n",
       "      <td>0</td>\n",
       "      <td>22</td>\n",
       "      <td>0</td>\n",
       "      <td>0.000000</td>\n",
       "      <td>0</td>\n",
       "    </tr>\n",
       "    <tr>\n",
       "      <th>3</th>\n",
       "      <td>5001714</td>\n",
       "      <td>-14</td>\n",
       "      <td>0</td>\n",
       "      <td>15</td>\n",
       "      <td>0</td>\n",
       "      <td>0.000000</td>\n",
       "      <td>0</td>\n",
       "    </tr>\n",
       "    <tr>\n",
       "      <th>4</th>\n",
       "      <td>5001715</td>\n",
       "      <td>-59</td>\n",
       "      <td>0</td>\n",
       "      <td>60</td>\n",
       "      <td>0</td>\n",
       "      <td>0.000000</td>\n",
       "      <td>0</td>\n",
       "    </tr>\n",
       "    <tr>\n",
       "      <th>5</th>\n",
       "      <td>5001717</td>\n",
       "      <td>-21</td>\n",
       "      <td>0</td>\n",
       "      <td>22</td>\n",
       "      <td>0</td>\n",
       "      <td>0.000000</td>\n",
       "      <td>0</td>\n",
       "    </tr>\n",
       "    <tr>\n",
       "      <th>6</th>\n",
       "      <td>5001718</td>\n",
       "      <td>-38</td>\n",
       "      <td>0</td>\n",
       "      <td>39</td>\n",
       "      <td>2</td>\n",
       "      <td>0.051282</td>\n",
       "      <td>0</td>\n",
       "    </tr>\n",
       "    <tr>\n",
       "      <th>7</th>\n",
       "      <td>5001719</td>\n",
       "      <td>-42</td>\n",
       "      <td>0</td>\n",
       "      <td>43</td>\n",
       "      <td>0</td>\n",
       "      <td>0.000000</td>\n",
       "      <td>0</td>\n",
       "    </tr>\n",
       "    <tr>\n",
       "      <th>8</th>\n",
       "      <td>5001720</td>\n",
       "      <td>-35</td>\n",
       "      <td>0</td>\n",
       "      <td>36</td>\n",
       "      <td>7</td>\n",
       "      <td>0.194444</td>\n",
       "      <td>1</td>\n",
       "    </tr>\n",
       "    <tr>\n",
       "      <th>9</th>\n",
       "      <td>5001723</td>\n",
       "      <td>-30</td>\n",
       "      <td>0</td>\n",
       "      <td>31</td>\n",
       "      <td>0</td>\n",
       "      <td>0.000000</td>\n",
       "      <td>0</td>\n",
       "    </tr>\n",
       "    <tr>\n",
       "      <th>10</th>\n",
       "      <td>5001724</td>\n",
       "      <td>-30</td>\n",
       "      <td>0</td>\n",
       "      <td>31</td>\n",
       "      <td>0</td>\n",
       "      <td>0.000000</td>\n",
       "      <td>0</td>\n",
       "    </tr>\n",
       "    <tr>\n",
       "      <th>11</th>\n",
       "      <td>5001725</td>\n",
       "      <td>-7</td>\n",
       "      <td>0</td>\n",
       "      <td>8</td>\n",
       "      <td>0</td>\n",
       "      <td>0.000000</td>\n",
       "      <td>0</td>\n",
       "    </tr>\n",
       "    <tr>\n",
       "      <th>12</th>\n",
       "      <td>5001726</td>\n",
       "      <td>-38</td>\n",
       "      <td>0</td>\n",
       "      <td>39</td>\n",
       "      <td>0</td>\n",
       "      <td>0.000000</td>\n",
       "      <td>0</td>\n",
       "    </tr>\n",
       "    <tr>\n",
       "      <th>13</th>\n",
       "      <td>5001728</td>\n",
       "      <td>0</td>\n",
       "      <td>0</td>\n",
       "      <td>1</td>\n",
       "      <td>0</td>\n",
       "      <td>0.000000</td>\n",
       "      <td>0</td>\n",
       "    </tr>\n",
       "    <tr>\n",
       "      <th>14</th>\n",
       "      <td>5001729</td>\n",
       "      <td>-6</td>\n",
       "      <td>0</td>\n",
       "      <td>7</td>\n",
       "      <td>0</td>\n",
       "      <td>0.000000</td>\n",
       "      <td>0</td>\n",
       "    </tr>\n",
       "  </tbody>\n",
       "</table>\n",
       "</div>"
      ],
      "text/plain": [
       "         ID  FIRST_MONTH  FINAL_MONTH  NUM_OF_MONTHS  NUM_OF_DLQ_MONTHS  \\\n",
       "0   5001711           -3            0              4                  0   \n",
       "1   5001712          -18            0             19                  0   \n",
       "2   5001713          -21            0             22                  0   \n",
       "3   5001714          -14            0             15                  0   \n",
       "4   5001715          -59            0             60                  0   \n",
       "5   5001717          -21            0             22                  0   \n",
       "6   5001718          -38            0             39                  2   \n",
       "7   5001719          -42            0             43                  0   \n",
       "8   5001720          -35            0             36                  7   \n",
       "9   5001723          -30            0             31                  0   \n",
       "10  5001724          -30            0             31                  0   \n",
       "11  5001725           -7            0              8                  0   \n",
       "12  5001726          -38            0             39                  0   \n",
       "13  5001728            0            0              1                  0   \n",
       "14  5001729           -6            0              7                  0   \n",
       "\n",
       "    DLQ_PERCENT  RISK_FLAG  \n",
       "0      0.000000          0  \n",
       "1      0.000000          0  \n",
       "2      0.000000          0  \n",
       "3      0.000000          0  \n",
       "4      0.000000          0  \n",
       "5      0.000000          0  \n",
       "6      0.051282          0  \n",
       "7      0.000000          0  \n",
       "8      0.194444          1  \n",
       "9      0.000000          0  \n",
       "10     0.000000          0  \n",
       "11     0.000000          0  \n",
       "12     0.000000          0  \n",
       "13     0.000000          0  \n",
       "14     0.000000          0  "
      ]
     },
     "execution_count": 19,
     "metadata": {},
     "output_type": "execute_result"
    }
   ],
   "source": [
    "# Final product\n",
    "customer_sum.head(15)"
   ]
  },
  {
   "cell_type": "markdown",
   "id": "35909d73-8696-4be6-9acc-68518e7216a4",
   "metadata": {},
   "source": [
    "Our target variable is `RISK_FLAG`. All of these engineered features will now be merged with the application data."
   ]
  },
  {
   "cell_type": "markdown",
   "id": "3114942b-ca51-44c9-be2c-ab99325ffb53",
   "metadata": {},
   "source": [
    "### Merging the DataFrames"
   ]
  },
  {
   "cell_type": "markdown",
   "id": "66f56108-48fc-46de-bf91-545c2321e953",
   "metadata": {},
   "source": [
    "The original `credit_record.csv` has 45985 unique customers. The `application_record.csv` file has 438557 records. We will merge the DataFrames and drop null values in the columns from `customer_sum` DF."
   ]
  },
  {
   "cell_type": "code",
   "execution_count": 20,
   "id": "d9ffde47-4b58-4593-bb49-b97cbeb0d1c6",
   "metadata": {},
   "outputs": [],
   "source": [
    "# Merge app_df + customer_sum DataFrames.\n",
    "merged_df = pd.merge(app_df,customer_sum,how='left',on='ID')"
   ]
  },
  {
   "cell_type": "code",
   "execution_count": 21,
   "id": "94fc2f0d-947e-45a4-8cf2-11c77c1e039d",
   "metadata": {},
   "outputs": [],
   "source": [
    "# Dropp NaN values from the merge\n",
    "merged_df = merged_df[merged_df['FIRST_MONTH'].notnull()]"
   ]
  },
  {
   "cell_type": "code",
   "execution_count": 22,
   "id": "a9e78a27-28d2-41c6-8bc4-334e9df32a8c",
   "metadata": {
    "scrolled": true
   },
   "outputs": [
    {
     "name": "stdout",
     "output_type": "stream",
     "text": [
      "<class 'pandas.core.frame.DataFrame'>\n",
      "Index: 36457 entries, 0 to 434812\n",
      "Data columns (total 24 columns):\n",
      " #   Column               Non-Null Count  Dtype  \n",
      "---  ------               --------------  -----  \n",
      " 0   ID                   36457 non-null  int64  \n",
      " 1   CODE_GENDER          36457 non-null  object \n",
      " 2   FLAG_OWN_CAR         36457 non-null  object \n",
      " 3   FLAG_OWN_REALTY      36457 non-null  object \n",
      " 4   CNT_CHILDREN         36457 non-null  int64  \n",
      " 5   AMT_INCOME_TOTAL     36457 non-null  float64\n",
      " 6   NAME_INCOME_TYPE     36457 non-null  object \n",
      " 7   NAME_EDUCATION_TYPE  36457 non-null  object \n",
      " 8   NAME_FAMILY_STATUS   36457 non-null  object \n",
      " 9   NAME_HOUSING_TYPE    36457 non-null  object \n",
      " 10  DAYS_BIRTH           36457 non-null  int64  \n",
      " 11  DAYS_EMPLOYED        36457 non-null  int64  \n",
      " 12  FLAG_MOBIL           36457 non-null  int64  \n",
      " 13  FLAG_WORK_PHONE      36457 non-null  int64  \n",
      " 14  FLAG_PHONE           36457 non-null  int64  \n",
      " 15  FLAG_EMAIL           36457 non-null  int64  \n",
      " 16  OCCUPATION_TYPE      25134 non-null  object \n",
      " 17  CNT_FAM_MEMBERS      36457 non-null  float64\n",
      " 18  FIRST_MONTH          36457 non-null  float64\n",
      " 19  FINAL_MONTH          36457 non-null  float64\n",
      " 20  NUM_OF_MONTHS        36457 non-null  float64\n",
      " 21  NUM_OF_DLQ_MONTHS    36457 non-null  float64\n",
      " 22  DLQ_PERCENT          36457 non-null  float64\n",
      " 23  RISK_FLAG            36457 non-null  float64\n",
      "dtypes: float64(8), int64(8), object(8)\n",
      "memory usage: 7.0+ MB\n"
     ]
    }
   ],
   "source": [
    "# View info on merge\n",
    "merged_df.info()"
   ]
  },
  {
   "cell_type": "code",
   "execution_count": 23,
   "id": "8e9f082b-6e01-44c3-b561-f83b697596d1",
   "metadata": {},
   "outputs": [],
   "source": [
    "# Save new df into csv file\n",
    "merged_df.to_csv('data/combined_data.csv',index=False)"
   ]
  },
  {
   "cell_type": "markdown",
   "id": "d7d5f1ae-80e3-4417-9b52-099ddf95875b",
   "metadata": {},
   "source": [
    "## Exploratory Analysis"
   ]
  },
  {
   "cell_type": "code",
   "execution_count": null,
   "id": "f3080d38-4250-4980-a82c-df38e8d204fb",
   "metadata": {},
   "outputs": [],
   "source": []
  }
 ],
 "metadata": {
  "kernelspec": {
   "display_name": "Python 3 (ipykernel)",
   "language": "python",
   "name": "python3"
  },
  "language_info": {
   "codemirror_mode": {
    "name": "ipython",
    "version": 3
   },
   "file_extension": ".py",
   "mimetype": "text/x-python",
   "name": "python",
   "nbconvert_exporter": "python",
   "pygments_lexer": "ipython3",
   "version": "3.10.14"
  }
 },
 "nbformat": 4,
 "nbformat_minor": 5
}
