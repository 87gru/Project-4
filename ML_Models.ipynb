{
 "cells": [
  {
   "cell_type": "code",
   "execution_count": 1,
   "id": "6d2bba01-ea27-4e71-9fe9-426b16f44528",
   "metadata": {},
   "outputs": [],
   "source": [
    "# Import dependencies\n",
    "import pandas as pd\n",
    "import numpy as np\n",
    "import time\n",
    "from sklearn.preprocessing import OneHotEncoder\n",
    "from sklearn.model_selection import train_test_split\n",
    "from imblearn.over_sampling import SMOTE\n",
    "from sklearn.preprocessing import StandardScaler\n",
    "from sklearn.linear_model import LogisticRegression\n",
    "from sklearn.ensemble import RandomForestClassifier\n",
    "from sklearn.metrics import confusion_matrix, accuracy_score, classification_report\n",
    "from xgboost import XGBClassifier"
   ]
  },
  {
   "cell_type": "markdown",
   "id": "0aacf40d-a8ec-4393-82e1-002fe25bfdb5",
   "metadata": {},
   "source": [
    "## Preprocessing"
   ]
  },
  {
   "cell_type": "code",
   "execution_count": 2,
   "id": "68db45a6-c7ee-48ad-b446-2411651a3f22",
   "metadata": {},
   "outputs": [],
   "source": [
    "# Import CSV file\n",
    "df = pd.read_csv('data/combined_data.csv')"
   ]
  },
  {
   "cell_type": "code",
   "execution_count": 3,
   "id": "242f535a-3a3b-4f03-ba62-9ea69f24e855",
   "metadata": {},
   "outputs": [
    {
     "data": {
      "text/plain": [
       "Index(['ID', 'CODE_GENDER', 'FLAG_OWN_CAR', 'FLAG_OWN_REALTY', 'CNT_CHILDREN',\n",
       "       'AMT_INCOME_TOTAL', 'NAME_INCOME_TYPE', 'NAME_EDUCATION_TYPE',\n",
       "       'NAME_FAMILY_STATUS', 'NAME_HOUSING_TYPE', 'DAYS_BIRTH',\n",
       "       'DAYS_EMPLOYED', 'FLAG_MOBIL', 'FLAG_WORK_PHONE', 'FLAG_PHONE',\n",
       "       'FLAG_EMAIL', 'OCCUPATION_TYPE', 'CNT_FAM_MEMBERS', 'VINTAGE',\n",
       "       'FINAL_MONTH', 'NUM_OF_MONTHS', 'NUM_OF_DLQ_MONTHS', 'DLQ_PERCENT',\n",
       "       'RISK_FLAG'],\n",
       "      dtype='object')"
      ]
     },
     "execution_count": 3,
     "metadata": {},
     "output_type": "execute_result"
    }
   ],
   "source": [
    "# View columns to determine which to remove\n",
    "df.columns"
   ]
  },
  {
   "cell_type": "code",
   "execution_count": 4,
   "id": "79463dd2-69ee-461e-bd0a-9172068c31d1",
   "metadata": {},
   "outputs": [
    {
     "data": {
      "text/plain": [
       "RISK_FLAG\n",
       "0.0    35286\n",
       "1.0     1171\n",
       "Name: count, dtype: int64"
      ]
     },
     "execution_count": 4,
     "metadata": {},
     "output_type": "execute_result"
    }
   ],
   "source": [
    "# Review class distribution\n",
    "df['RISK_FLAG'].value_counts()"
   ]
  },
  {
   "cell_type": "markdown",
   "id": "f0f794d4-257f-4ae9-95a6-d2e7f999ba16",
   "metadata": {},
   "source": [
    "### Choose ONE of the three cells below:"
   ]
  },
  {
   "cell_type": "code",
   "execution_count": null,
   "id": "4c03bdab-a1ee-400b-8f06-68e8ff8b1434",
   "metadata": {},
   "outputs": [],
   "source": [
    "# Drop unnecessary columns - Version 1. Engineered Variables: only include NUM_OF_DLQ_MONTHS, VINTAGE, FINAL_MONTH\n",
    "df = df.drop(columns=['ID','FLAG_MOBIL','FLAG_WORK_PHONE','FLAG_PHONE','FLAG_EMAIL','DLQ_PERCENT', 'NUM_OF_MONTHS'])"
   ]
  },
  {
   "cell_type": "code",
   "execution_count": 5,
   "id": "e31ef2c5-bcae-41dc-b70c-27cdfca66298",
   "metadata": {},
   "outputs": [],
   "source": [
    "# Drop unnecessary columns - Version 2. Engineered Variables: only include NUM_OF_DLQ_MONTHS, NUM_OF_MONTHS\n",
    "df = df.drop(columns=['ID','FLAG_MOBIL','FLAG_WORK_PHONE','FLAG_PHONE','FLAG_EMAIL','DLQ_PERCENT','VINTAGE','FINAL_MONTH'])"
   ]
  },
  {
   "cell_type": "code",
   "execution_count": null,
   "id": "d775ad7f-d0d4-4ca6-8d7f-abc244ce1568",
   "metadata": {},
   "outputs": [],
   "source": [
    "# Drop unnecessary columns - Version 3. Only include Engineered Variables, Get rid of everything from application data\n",
    "# except AMT_INCOME_TOTAL + DAYS_EMPLOYED\n",
    "df = df.drop(columns=[col for col in df if col not in ['NUM_OF_MONTHS','VINTAGE','NUM_OF_DLQ_MONTHS','DLQ_PERCENT',\\\n",
    "                      'AMT_INCOME_TOTAL', 'DAYS_EMPLOYED', 'RISK_FLAG']])"
   ]
  },
  {
   "cell_type": "markdown",
   "id": "b54d0da5-90f5-4167-a4b9-abd9139527ce",
   "metadata": {},
   "source": [
    "### Resume Preprocessing:"
   ]
  },
  {
   "cell_type": "code",
   "execution_count": 6,
   "id": "aa531ab4-5ac5-4e92-8940-99964c630a24",
   "metadata": {},
   "outputs": [],
   "source": [
    "# Fill NaN values with 'NULL'\n",
    "df = df.fillna({'OCCUPATION_TYPE':'NULL'})"
   ]
  },
  {
   "cell_type": "code",
   "execution_count": 7,
   "id": "eb849837-8f65-41db-8ddc-b9035ead878a",
   "metadata": {},
   "outputs": [],
   "source": [
    "# Put categorical columns into list for encoding\n",
    "categorical = df.dtypes[df.dtypes == 'object'].index.tolist()"
   ]
  },
  {
   "cell_type": "code",
   "execution_count": 8,
   "id": "feb9fe2e-9e7e-4e44-91d1-2b36ab6f9ae0",
   "metadata": {},
   "outputs": [],
   "source": [
    "# Create a OneHotEncoder instance\n",
    "enc = OneHotEncoder(sparse_output= False)\n",
    "\n",
    "# Fit and transform OneHotEncoder using categorical variables\n",
    "encode_df = pd.DataFrame(enc.fit_transform(df[categorical]))\n",
    "\n",
    "# Add the encoded variable names to the dataframe\n",
    "encode_df.columns = enc.get_feature_names_out(categorical)"
   ]
  },
  {
   "cell_type": "code",
   "execution_count": 9,
   "id": "df734313-ea06-4c53-9478-7cb398feb9c9",
   "metadata": {},
   "outputs": [],
   "source": [
    "# Use pd.conat to add columns with encoded values\n",
    "preprocessed_df = pd.concat([df,encode_df],axis=1)\n",
    "\n",
    "# Drop object columns\n",
    "preprocessed_df = preprocessed_df.select_dtypes(exclude=['object'])"
   ]
  },
  {
   "cell_type": "code",
   "execution_count": 10,
   "id": "a0175eb9-6fda-4fef-95b5-fe63e646b612",
   "metadata": {},
   "outputs": [],
   "source": [
    "# Define X and y variables\n",
    "y = preprocessed_df['RISK_FLAG']\n",
    "X = preprocessed_df.drop(columns='RISK_FLAG')"
   ]
  },
  {
   "cell_type": "code",
   "execution_count": 11,
   "id": "55bf46f9-1ddf-4353-bc16-c903bef1ec1e",
   "metadata": {},
   "outputs": [],
   "source": [
    "# Split data into training and testing samples. Setting testing population to 30%. Set stratify=y to preserve\n",
    "# the class distribution\n",
    "\n",
    "X_train, X_test, y_train, y_test = train_test_split(X,y,random_state=36, test_size=0.3, stratify=y)"
   ]
  },
  {
   "cell_type": "markdown",
   "id": "8a7c4a57-19a1-4690-b0e8-de031316a19c",
   "metadata": {},
   "source": [
    "### Oversampling the minority class via `SMOTE`"
   ]
  },
  {
   "cell_type": "code",
   "execution_count": 12,
   "id": "f2ea6961-f953-40ef-881a-615370ae3512",
   "metadata": {},
   "outputs": [],
   "source": [
    "# Initialize SMOTE to oversample the minority class in the training data\n",
    "smote = SMOTE(random_state=29)\n",
    "\n",
    "# Apply to training data\n",
    "X_train_resampled, y_train_resampled = smote.fit_resample(X_train, y_train)"
   ]
  },
  {
   "cell_type": "code",
   "execution_count": 13,
   "id": "7d618157-d4d3-457d-b648-c1a37b728206",
   "metadata": {},
   "outputs": [
    {
     "name": "stdout",
     "output_type": "stream",
     "text": [
      "RISK_FLAG\n",
      "0.0    24699\n",
      "1.0      820\n",
      "Name: count, dtype: int64\n",
      "RISK_FLAG\n",
      "0.0    24699\n",
      "1.0    24699\n",
      "Name: count, dtype: int64\n"
     ]
    }
   ],
   "source": [
    "# Compare class distribution after SMOTE\n",
    "print(y_train.value_counts())\n",
    "print(y_train_resampled.value_counts())"
   ]
  },
  {
   "cell_type": "code",
   "execution_count": 14,
   "id": "96bafd3f-e6b9-4696-b08c-c61e93de89fc",
   "metadata": {},
   "outputs": [],
   "source": [
    "# Creating StandardScaler instance\n",
    "scaler = StandardScaler()\n",
    "\n",
    "# Fitting Standard Scaler\n",
    "X_scaler = scaler.fit(X_train_resampled)\n",
    "\n",
    "# Scaling data on SMOTE resampled training sets\n",
    "X_train_scaled = X_scaler.transform(X_train_resampled)\n",
    "X_test_scaled = X_scaler.transform(X_test)"
   ]
  },
  {
   "cell_type": "markdown",
   "id": "b11e604b-10b5-4802-97d1-a815f8f65b28",
   "metadata": {},
   "source": [
    "## LogisticRegression Model"
   ]
  },
  {
   "cell_type": "markdown",
   "id": "b099b3ca-4ad6-46b9-b8a9-16c6213b1e54",
   "metadata": {},
   "source": [
    "### Using X_train, X_test data"
   ]
  },
  {
   "cell_type": "code",
   "execution_count": 15,
   "id": "7aed1741-a3cd-40e9-bbbf-f12fe6886969",
   "metadata": {},
   "outputs": [
    {
     "data": {
      "text/html": [
       "<style>#sk-container-id-1 {\n",
       "  /* Definition of color scheme common for light and dark mode */\n",
       "  --sklearn-color-text: black;\n",
       "  --sklearn-color-line: gray;\n",
       "  /* Definition of color scheme for unfitted estimators */\n",
       "  --sklearn-color-unfitted-level-0: #fff5e6;\n",
       "  --sklearn-color-unfitted-level-1: #f6e4d2;\n",
       "  --sklearn-color-unfitted-level-2: #ffe0b3;\n",
       "  --sklearn-color-unfitted-level-3: chocolate;\n",
       "  /* Definition of color scheme for fitted estimators */\n",
       "  --sklearn-color-fitted-level-0: #f0f8ff;\n",
       "  --sklearn-color-fitted-level-1: #d4ebff;\n",
       "  --sklearn-color-fitted-level-2: #b3dbfd;\n",
       "  --sklearn-color-fitted-level-3: cornflowerblue;\n",
       "\n",
       "  /* Specific color for light theme */\n",
       "  --sklearn-color-text-on-default-background: var(--sg-text-color, var(--theme-code-foreground, var(--jp-content-font-color1, black)));\n",
       "  --sklearn-color-background: var(--sg-background-color, var(--theme-background, var(--jp-layout-color0, white)));\n",
       "  --sklearn-color-border-box: var(--sg-text-color, var(--theme-code-foreground, var(--jp-content-font-color1, black)));\n",
       "  --sklearn-color-icon: #696969;\n",
       "\n",
       "  @media (prefers-color-scheme: dark) {\n",
       "    /* Redefinition of color scheme for dark theme */\n",
       "    --sklearn-color-text-on-default-background: var(--sg-text-color, var(--theme-code-foreground, var(--jp-content-font-color1, white)));\n",
       "    --sklearn-color-background: var(--sg-background-color, var(--theme-background, var(--jp-layout-color0, #111)));\n",
       "    --sklearn-color-border-box: var(--sg-text-color, var(--theme-code-foreground, var(--jp-content-font-color1, white)));\n",
       "    --sklearn-color-icon: #878787;\n",
       "  }\n",
       "}\n",
       "\n",
       "#sk-container-id-1 {\n",
       "  color: var(--sklearn-color-text);\n",
       "}\n",
       "\n",
       "#sk-container-id-1 pre {\n",
       "  padding: 0;\n",
       "}\n",
       "\n",
       "#sk-container-id-1 input.sk-hidden--visually {\n",
       "  border: 0;\n",
       "  clip: rect(1px 1px 1px 1px);\n",
       "  clip: rect(1px, 1px, 1px, 1px);\n",
       "  height: 1px;\n",
       "  margin: -1px;\n",
       "  overflow: hidden;\n",
       "  padding: 0;\n",
       "  position: absolute;\n",
       "  width: 1px;\n",
       "}\n",
       "\n",
       "#sk-container-id-1 div.sk-dashed-wrapped {\n",
       "  border: 1px dashed var(--sklearn-color-line);\n",
       "  margin: 0 0.4em 0.5em 0.4em;\n",
       "  box-sizing: border-box;\n",
       "  padding-bottom: 0.4em;\n",
       "  background-color: var(--sklearn-color-background);\n",
       "}\n",
       "\n",
       "#sk-container-id-1 div.sk-container {\n",
       "  /* jupyter's `normalize.less` sets `[hidden] { display: none; }`\n",
       "     but bootstrap.min.css set `[hidden] { display: none !important; }`\n",
       "     so we also need the `!important` here to be able to override the\n",
       "     default hidden behavior on the sphinx rendered scikit-learn.org.\n",
       "     See: https://github.com/scikit-learn/scikit-learn/issues/21755 */\n",
       "  display: inline-block !important;\n",
       "  position: relative;\n",
       "}\n",
       "\n",
       "#sk-container-id-1 div.sk-text-repr-fallback {\n",
       "  display: none;\n",
       "}\n",
       "\n",
       "div.sk-parallel-item,\n",
       "div.sk-serial,\n",
       "div.sk-item {\n",
       "  /* draw centered vertical line to link estimators */\n",
       "  background-image: linear-gradient(var(--sklearn-color-text-on-default-background), var(--sklearn-color-text-on-default-background));\n",
       "  background-size: 2px 100%;\n",
       "  background-repeat: no-repeat;\n",
       "  background-position: center center;\n",
       "}\n",
       "\n",
       "/* Parallel-specific style estimator block */\n",
       "\n",
       "#sk-container-id-1 div.sk-parallel-item::after {\n",
       "  content: \"\";\n",
       "  width: 100%;\n",
       "  border-bottom: 2px solid var(--sklearn-color-text-on-default-background);\n",
       "  flex-grow: 1;\n",
       "}\n",
       "\n",
       "#sk-container-id-1 div.sk-parallel {\n",
       "  display: flex;\n",
       "  align-items: stretch;\n",
       "  justify-content: center;\n",
       "  background-color: var(--sklearn-color-background);\n",
       "  position: relative;\n",
       "}\n",
       "\n",
       "#sk-container-id-1 div.sk-parallel-item {\n",
       "  display: flex;\n",
       "  flex-direction: column;\n",
       "}\n",
       "\n",
       "#sk-container-id-1 div.sk-parallel-item:first-child::after {\n",
       "  align-self: flex-end;\n",
       "  width: 50%;\n",
       "}\n",
       "\n",
       "#sk-container-id-1 div.sk-parallel-item:last-child::after {\n",
       "  align-self: flex-start;\n",
       "  width: 50%;\n",
       "}\n",
       "\n",
       "#sk-container-id-1 div.sk-parallel-item:only-child::after {\n",
       "  width: 0;\n",
       "}\n",
       "\n",
       "/* Serial-specific style estimator block */\n",
       "\n",
       "#sk-container-id-1 div.sk-serial {\n",
       "  display: flex;\n",
       "  flex-direction: column;\n",
       "  align-items: center;\n",
       "  background-color: var(--sklearn-color-background);\n",
       "  padding-right: 1em;\n",
       "  padding-left: 1em;\n",
       "}\n",
       "\n",
       "\n",
       "/* Toggleable style: style used for estimator/Pipeline/ColumnTransformer box that is\n",
       "clickable and can be expanded/collapsed.\n",
       "- Pipeline and ColumnTransformer use this feature and define the default style\n",
       "- Estimators will overwrite some part of the style using the `sk-estimator` class\n",
       "*/\n",
       "\n",
       "/* Pipeline and ColumnTransformer style (default) */\n",
       "\n",
       "#sk-container-id-1 div.sk-toggleable {\n",
       "  /* Default theme specific background. It is overwritten whether we have a\n",
       "  specific estimator or a Pipeline/ColumnTransformer */\n",
       "  background-color: var(--sklearn-color-background);\n",
       "}\n",
       "\n",
       "/* Toggleable label */\n",
       "#sk-container-id-1 label.sk-toggleable__label {\n",
       "  cursor: pointer;\n",
       "  display: block;\n",
       "  width: 100%;\n",
       "  margin-bottom: 0;\n",
       "  padding: 0.5em;\n",
       "  box-sizing: border-box;\n",
       "  text-align: center;\n",
       "}\n",
       "\n",
       "#sk-container-id-1 label.sk-toggleable__label-arrow:before {\n",
       "  /* Arrow on the left of the label */\n",
       "  content: \"▸\";\n",
       "  float: left;\n",
       "  margin-right: 0.25em;\n",
       "  color: var(--sklearn-color-icon);\n",
       "}\n",
       "\n",
       "#sk-container-id-1 label.sk-toggleable__label-arrow:hover:before {\n",
       "  color: var(--sklearn-color-text);\n",
       "}\n",
       "\n",
       "/* Toggleable content - dropdown */\n",
       "\n",
       "#sk-container-id-1 div.sk-toggleable__content {\n",
       "  max-height: 0;\n",
       "  max-width: 0;\n",
       "  overflow: hidden;\n",
       "  text-align: left;\n",
       "  /* unfitted */\n",
       "  background-color: var(--sklearn-color-unfitted-level-0);\n",
       "}\n",
       "\n",
       "#sk-container-id-1 div.sk-toggleable__content.fitted {\n",
       "  /* fitted */\n",
       "  background-color: var(--sklearn-color-fitted-level-0);\n",
       "}\n",
       "\n",
       "#sk-container-id-1 div.sk-toggleable__content pre {\n",
       "  margin: 0.2em;\n",
       "  border-radius: 0.25em;\n",
       "  color: var(--sklearn-color-text);\n",
       "  /* unfitted */\n",
       "  background-color: var(--sklearn-color-unfitted-level-0);\n",
       "}\n",
       "\n",
       "#sk-container-id-1 div.sk-toggleable__content.fitted pre {\n",
       "  /* unfitted */\n",
       "  background-color: var(--sklearn-color-fitted-level-0);\n",
       "}\n",
       "\n",
       "#sk-container-id-1 input.sk-toggleable__control:checked~div.sk-toggleable__content {\n",
       "  /* Expand drop-down */\n",
       "  max-height: 200px;\n",
       "  max-width: 100%;\n",
       "  overflow: auto;\n",
       "}\n",
       "\n",
       "#sk-container-id-1 input.sk-toggleable__control:checked~label.sk-toggleable__label-arrow:before {\n",
       "  content: \"▾\";\n",
       "}\n",
       "\n",
       "/* Pipeline/ColumnTransformer-specific style */\n",
       "\n",
       "#sk-container-id-1 div.sk-label input.sk-toggleable__control:checked~label.sk-toggleable__label {\n",
       "  color: var(--sklearn-color-text);\n",
       "  background-color: var(--sklearn-color-unfitted-level-2);\n",
       "}\n",
       "\n",
       "#sk-container-id-1 div.sk-label.fitted input.sk-toggleable__control:checked~label.sk-toggleable__label {\n",
       "  background-color: var(--sklearn-color-fitted-level-2);\n",
       "}\n",
       "\n",
       "/* Estimator-specific style */\n",
       "\n",
       "/* Colorize estimator box */\n",
       "#sk-container-id-1 div.sk-estimator input.sk-toggleable__control:checked~label.sk-toggleable__label {\n",
       "  /* unfitted */\n",
       "  background-color: var(--sklearn-color-unfitted-level-2);\n",
       "}\n",
       "\n",
       "#sk-container-id-1 div.sk-estimator.fitted input.sk-toggleable__control:checked~label.sk-toggleable__label {\n",
       "  /* fitted */\n",
       "  background-color: var(--sklearn-color-fitted-level-2);\n",
       "}\n",
       "\n",
       "#sk-container-id-1 div.sk-label label.sk-toggleable__label,\n",
       "#sk-container-id-1 div.sk-label label {\n",
       "  /* The background is the default theme color */\n",
       "  color: var(--sklearn-color-text-on-default-background);\n",
       "}\n",
       "\n",
       "/* On hover, darken the color of the background */\n",
       "#sk-container-id-1 div.sk-label:hover label.sk-toggleable__label {\n",
       "  color: var(--sklearn-color-text);\n",
       "  background-color: var(--sklearn-color-unfitted-level-2);\n",
       "}\n",
       "\n",
       "/* Label box, darken color on hover, fitted */\n",
       "#sk-container-id-1 div.sk-label.fitted:hover label.sk-toggleable__label.fitted {\n",
       "  color: var(--sklearn-color-text);\n",
       "  background-color: var(--sklearn-color-fitted-level-2);\n",
       "}\n",
       "\n",
       "/* Estimator label */\n",
       "\n",
       "#sk-container-id-1 div.sk-label label {\n",
       "  font-family: monospace;\n",
       "  font-weight: bold;\n",
       "  display: inline-block;\n",
       "  line-height: 1.2em;\n",
       "}\n",
       "\n",
       "#sk-container-id-1 div.sk-label-container {\n",
       "  text-align: center;\n",
       "}\n",
       "\n",
       "/* Estimator-specific */\n",
       "#sk-container-id-1 div.sk-estimator {\n",
       "  font-family: monospace;\n",
       "  border: 1px dotted var(--sklearn-color-border-box);\n",
       "  border-radius: 0.25em;\n",
       "  box-sizing: border-box;\n",
       "  margin-bottom: 0.5em;\n",
       "  /* unfitted */\n",
       "  background-color: var(--sklearn-color-unfitted-level-0);\n",
       "}\n",
       "\n",
       "#sk-container-id-1 div.sk-estimator.fitted {\n",
       "  /* fitted */\n",
       "  background-color: var(--sklearn-color-fitted-level-0);\n",
       "}\n",
       "\n",
       "/* on hover */\n",
       "#sk-container-id-1 div.sk-estimator:hover {\n",
       "  /* unfitted */\n",
       "  background-color: var(--sklearn-color-unfitted-level-2);\n",
       "}\n",
       "\n",
       "#sk-container-id-1 div.sk-estimator.fitted:hover {\n",
       "  /* fitted */\n",
       "  background-color: var(--sklearn-color-fitted-level-2);\n",
       "}\n",
       "\n",
       "/* Specification for estimator info (e.g. \"i\" and \"?\") */\n",
       "\n",
       "/* Common style for \"i\" and \"?\" */\n",
       "\n",
       ".sk-estimator-doc-link,\n",
       "a:link.sk-estimator-doc-link,\n",
       "a:visited.sk-estimator-doc-link {\n",
       "  float: right;\n",
       "  font-size: smaller;\n",
       "  line-height: 1em;\n",
       "  font-family: monospace;\n",
       "  background-color: var(--sklearn-color-background);\n",
       "  border-radius: 1em;\n",
       "  height: 1em;\n",
       "  width: 1em;\n",
       "  text-decoration: none !important;\n",
       "  margin-left: 1ex;\n",
       "  /* unfitted */\n",
       "  border: var(--sklearn-color-unfitted-level-1) 1pt solid;\n",
       "  color: var(--sklearn-color-unfitted-level-1);\n",
       "}\n",
       "\n",
       ".sk-estimator-doc-link.fitted,\n",
       "a:link.sk-estimator-doc-link.fitted,\n",
       "a:visited.sk-estimator-doc-link.fitted {\n",
       "  /* fitted */\n",
       "  border: var(--sklearn-color-fitted-level-1) 1pt solid;\n",
       "  color: var(--sklearn-color-fitted-level-1);\n",
       "}\n",
       "\n",
       "/* On hover */\n",
       "div.sk-estimator:hover .sk-estimator-doc-link:hover,\n",
       ".sk-estimator-doc-link:hover,\n",
       "div.sk-label-container:hover .sk-estimator-doc-link:hover,\n",
       ".sk-estimator-doc-link:hover {\n",
       "  /* unfitted */\n",
       "  background-color: var(--sklearn-color-unfitted-level-3);\n",
       "  color: var(--sklearn-color-background);\n",
       "  text-decoration: none;\n",
       "}\n",
       "\n",
       "div.sk-estimator.fitted:hover .sk-estimator-doc-link.fitted:hover,\n",
       ".sk-estimator-doc-link.fitted:hover,\n",
       "div.sk-label-container:hover .sk-estimator-doc-link.fitted:hover,\n",
       ".sk-estimator-doc-link.fitted:hover {\n",
       "  /* fitted */\n",
       "  background-color: var(--sklearn-color-fitted-level-3);\n",
       "  color: var(--sklearn-color-background);\n",
       "  text-decoration: none;\n",
       "}\n",
       "\n",
       "/* Span, style for the box shown on hovering the info icon */\n",
       ".sk-estimator-doc-link span {\n",
       "  display: none;\n",
       "  z-index: 9999;\n",
       "  position: relative;\n",
       "  font-weight: normal;\n",
       "  right: .2ex;\n",
       "  padding: .5ex;\n",
       "  margin: .5ex;\n",
       "  width: min-content;\n",
       "  min-width: 20ex;\n",
       "  max-width: 50ex;\n",
       "  color: var(--sklearn-color-text);\n",
       "  box-shadow: 2pt 2pt 4pt #999;\n",
       "  /* unfitted */\n",
       "  background: var(--sklearn-color-unfitted-level-0);\n",
       "  border: .5pt solid var(--sklearn-color-unfitted-level-3);\n",
       "}\n",
       "\n",
       ".sk-estimator-doc-link.fitted span {\n",
       "  /* fitted */\n",
       "  background: var(--sklearn-color-fitted-level-0);\n",
       "  border: var(--sklearn-color-fitted-level-3);\n",
       "}\n",
       "\n",
       ".sk-estimator-doc-link:hover span {\n",
       "  display: block;\n",
       "}\n",
       "\n",
       "/* \"?\"-specific style due to the `<a>` HTML tag */\n",
       "\n",
       "#sk-container-id-1 a.estimator_doc_link {\n",
       "  float: right;\n",
       "  font-size: 1rem;\n",
       "  line-height: 1em;\n",
       "  font-family: monospace;\n",
       "  background-color: var(--sklearn-color-background);\n",
       "  border-radius: 1rem;\n",
       "  height: 1rem;\n",
       "  width: 1rem;\n",
       "  text-decoration: none;\n",
       "  /* unfitted */\n",
       "  color: var(--sklearn-color-unfitted-level-1);\n",
       "  border: var(--sklearn-color-unfitted-level-1) 1pt solid;\n",
       "}\n",
       "\n",
       "#sk-container-id-1 a.estimator_doc_link.fitted {\n",
       "  /* fitted */\n",
       "  border: var(--sklearn-color-fitted-level-1) 1pt solid;\n",
       "  color: var(--sklearn-color-fitted-level-1);\n",
       "}\n",
       "\n",
       "/* On hover */\n",
       "#sk-container-id-1 a.estimator_doc_link:hover {\n",
       "  /* unfitted */\n",
       "  background-color: var(--sklearn-color-unfitted-level-3);\n",
       "  color: var(--sklearn-color-background);\n",
       "  text-decoration: none;\n",
       "}\n",
       "\n",
       "#sk-container-id-1 a.estimator_doc_link.fitted:hover {\n",
       "  /* fitted */\n",
       "  background-color: var(--sklearn-color-fitted-level-3);\n",
       "}\n",
       "</style><div id=\"sk-container-id-1\" class=\"sk-top-container\"><div class=\"sk-text-repr-fallback\"><pre>LogisticRegression(max_iter=1000, random_state=42)</pre><b>In a Jupyter environment, please rerun this cell to show the HTML representation or trust the notebook. <br />On GitHub, the HTML representation is unable to render, please try loading this page with nbviewer.org.</b></div><div class=\"sk-container\" hidden><div class=\"sk-item\"><div class=\"sk-estimator  sk-toggleable\"><input class=\"sk-toggleable__control sk-hidden--visually\" id=\"sk-estimator-id-1\" type=\"checkbox\" checked><label for=\"sk-estimator-id-1\" class=\"sk-toggleable__label  sk-toggleable__label-arrow \">&nbsp;&nbsp;LogisticRegression<a class=\"sk-estimator-doc-link \" rel=\"noreferrer\" target=\"_blank\" href=\"https://scikit-learn.org/1.4/modules/generated/sklearn.linear_model.LogisticRegression.html\">?<span>Documentation for LogisticRegression</span></a><span class=\"sk-estimator-doc-link \">i<span>Not fitted</span></span></label><div class=\"sk-toggleable__content \"><pre>LogisticRegression(max_iter=1000, random_state=42)</pre></div> </div></div></div></div>"
      ],
      "text/plain": [
       "LogisticRegression(max_iter=1000, random_state=42)"
      ]
     },
     "execution_count": 15,
     "metadata": {},
     "output_type": "execute_result"
    }
   ],
   "source": [
    "# Create a logistic Regression Model\n",
    "lr_model = LogisticRegression(solver='lbfgs', max_iter= 1000, random_state=42)\n",
    "\n",
    "# Display model\n",
    "lr_model"
   ]
  },
  {
   "cell_type": "code",
   "execution_count": 16,
   "id": "bc964ba5-0977-4fb3-b890-1bed6bffb606",
   "metadata": {},
   "outputs": [
    {
     "name": "stdout",
     "output_type": "stream",
     "text": [
      "Execution time: 0.1328540419926867 seconds\n"
     ]
    }
   ],
   "source": [
    "# Train the model / time performance\n",
    "start_time = time.perf_counter()\n",
    "\n",
    "lr_model = lr_model.fit(X_train_scaled, y_train_resampled)\n",
    "\n",
    "end_time = time.perf_counter()\n",
    "lr_total = end_time - start_time\n",
    "\n",
    "print(f'Execution time: {lr_total} seconds')"
   ]
  },
  {
   "cell_type": "code",
   "execution_count": 17,
   "id": "a64452ba-3cf0-4bc9-8507-e9352dcbc20b",
   "metadata": {},
   "outputs": [],
   "source": [
    "# Making predictions using the testing data\n",
    "lr_predictions = lr_model.predict(X_test_scaled)"
   ]
  },
  {
   "cell_type": "code",
   "execution_count": 18,
   "id": "5546be60-498f-4375-8760-7f6383e5872e",
   "metadata": {},
   "outputs": [
    {
     "data": {
      "text/html": [
       "<div>\n",
       "<style scoped>\n",
       "    .dataframe tbody tr th:only-of-type {\n",
       "        vertical-align: middle;\n",
       "    }\n",
       "\n",
       "    .dataframe tbody tr th {\n",
       "        vertical-align: top;\n",
       "    }\n",
       "\n",
       "    .dataframe thead th {\n",
       "        text-align: right;\n",
       "    }\n",
       "</style>\n",
       "<table border=\"1\" class=\"dataframe\">\n",
       "  <thead>\n",
       "    <tr style=\"text-align: right;\">\n",
       "      <th></th>\n",
       "      <th>Predicted 0</th>\n",
       "      <th>Predicted 1</th>\n",
       "    </tr>\n",
       "  </thead>\n",
       "  <tbody>\n",
       "    <tr>\n",
       "      <th>Actual 0</th>\n",
       "      <td>10554</td>\n",
       "      <td>33</td>\n",
       "    </tr>\n",
       "    <tr>\n",
       "      <th>Actual 1</th>\n",
       "      <td>4</td>\n",
       "      <td>347</td>\n",
       "    </tr>\n",
       "  </tbody>\n",
       "</table>\n",
       "</div>"
      ],
      "text/plain": [
       "          Predicted 0  Predicted 1\n",
       "Actual 0        10554           33\n",
       "Actual 1            4          347"
      ]
     },
     "execution_count": 18,
     "metadata": {},
     "output_type": "execute_result"
    }
   ],
   "source": [
    "# Display confusion matrix as dataframe\n",
    "cm1 = confusion_matrix(y_test,lr_predictions)\n",
    "\n",
    "pd.DataFrame(cm1, index=['Actual 0','Actual 1'],columns=['Predicted 0', 'Predicted 1'])"
   ]
  },
  {
   "cell_type": "code",
   "execution_count": 19,
   "id": "5f26836e-434a-41aa-aeaf-1f8b32a2781b",
   "metadata": {},
   "outputs": [
    {
     "name": "stdout",
     "output_type": "stream",
     "text": [
      "              precision    recall  f1-score   support\n",
      "\n",
      "         0.0       1.00      1.00      1.00     10587\n",
      "         1.0       0.91      0.99      0.95       351\n",
      "\n",
      "    accuracy                           1.00     10938\n",
      "   macro avg       0.96      0.99      0.97     10938\n",
      "weighted avg       1.00      1.00      1.00     10938\n",
      "\n"
     ]
    }
   ],
   "source": [
    "# Display classification report for logistic regression model\n",
    "lr_class_report = classification_report(y_test, lr_predictions)\n",
    "\n",
    "print(lr_class_report)"
   ]
  },
  {
   "cell_type": "markdown",
   "id": "a3986694-9285-4f82-a067-5392a977cb62",
   "metadata": {},
   "source": [
    "* Version 1+2: P 0.90, R 1.00, F1 0.95\n",
    "* Version 3: P 0.87, R 1.00, F1 0.93"
   ]
  },
  {
   "cell_type": "markdown",
   "id": "153ec11a-33c4-453f-ab8f-c6b61b2408cc",
   "metadata": {},
   "source": [
    "Version 3 has the least number of features. Lower precision and F1 score."
   ]
  },
  {
   "cell_type": "markdown",
   "id": "56175cf0-14d1-4877-9c0c-efce879e9c15",
   "metadata": {},
   "source": [
    "### Cross-Validation"
   ]
  },
  {
   "cell_type": "markdown",
   "id": "bdaced15-3463-4245-a1e5-4b7cb59f05ed",
   "metadata": {},
   "source": [
    "We are using `StratifiedKFold` during cross validation to ensure that each fold has the same class distribution as the original dataset.\\\n",
    "In the `Pipeline`, we define the steps to take in each fold:\n",
    "* scale the training data with `StandardScaler`\n",
    "* use `SMOTE` to re-sample training data"
   ]
  },
  {
   "cell_type": "code",
   "execution_count": 20,
   "id": "94404712-731e-42a8-ac68-463bbd1fcf5a",
   "metadata": {},
   "outputs": [],
   "source": [
    "from sklearn.model_selection import cross_val_score, StratifiedKFold\n",
    "from imblearn.pipeline import Pipeline\n",
    "from sklearn.metrics import make_scorer, precision_score, recall_score, f1_score\n",
    "\n",
    "# Define pipeline\n",
    "pipeline1 = Pipeline([\n",
    "    ('scaler', StandardScaler()), # Standardize the training data for each fold\n",
    "    ('smote',SMOTE(random_state=40)), # Resample training data\n",
    "    ('classifier', lr_model) # use our LogisticRegression model\n",
    "]) \n",
    "\n",
    "# Define score using make_scorer with a focus on the recall for the negative class (aka Sensitivity)\n",
    "recall = make_scorer(recall_score, average='binary', pos_label=1)"
   ]
  },
  {
   "cell_type": "code",
   "execution_count": 21,
   "id": "62b8567e-6bd1-4414-a5ef-df0ae73fe50d",
   "metadata": {},
   "outputs": [],
   "source": [
    "# Initialize StratifiedKFold into 10 splits\n",
    "cv = StratifiedKFold(n_splits = 10, shuffle= True, random_state= 67)"
   ]
  },
  {
   "cell_type": "code",
   "execution_count": 22,
   "id": "5a15d64b-d4b3-454d-a630-6a23672aa3ed",
   "metadata": {},
   "outputs": [
    {
     "name": "stdout",
     "output_type": "stream",
     "text": [
      "Execution time: 3.0289356249850243 seconds\n"
     ]
    }
   ],
   "source": [
    "# run cross_val_score on the entire dataset. Show total execution time\n",
    "start_time = time.perf_counter()\n",
    "\n",
    "lr_cv_scores = cross_val_score(pipeline1, X, y, cv=cv, scoring= recall)\n",
    "\n",
    "end_time = time.perf_counter()\n",
    "total = end_time - start_time\n",
    "\n",
    "print(f'Execution time: {total} seconds')"
   ]
  },
  {
   "cell_type": "code",
   "execution_count": 23,
   "id": "826e8428-f57d-4023-b98a-e077a38efa0d",
   "metadata": {},
   "outputs": [
    {
     "name": "stdout",
     "output_type": "stream",
     "text": [
      "Average Specificity Score 0.9974431406634796\n"
     ]
    }
   ],
   "source": [
    "# Show the average specificity score through all folds\n",
    "print(f\"Average Specificity Score {np.mean(lr_cv_scores)}\")"
   ]
  },
  {
   "cell_type": "markdown",
   "id": "42d878a7-8054-4162-b274-651b89636c0c",
   "metadata": {},
   "source": [
    "## RandomForest Model"
   ]
  },
  {
   "cell_type": "markdown",
   "id": "8c9697e6-54d0-40d2-8857-b6d563ca6951",
   "metadata": {},
   "source": [
    "Per `GridSearchCV` results, best results for Version 1 + 2 achieved with following parameters:\n",
    "* `n_estimators`: 200\n",
    "* `min_samples_leaf`: 4\n",
    "* `min_samples_split`: 2\n",
    "\n",
    "Version 3:\n",
    "* `n_estimators`: 100\n",
    "* `min_samples_leaf`: 1\n",
    "* `min_samples_split`: 2"
   ]
  },
  {
   "cell_type": "markdown",
   "id": "c528816c-21cb-47dc-8369-5506819787cc",
   "metadata": {},
   "source": [
    "### Using `X_train`, `X_test data`"
   ]
  },
  {
   "cell_type": "code",
   "execution_count": 24,
   "id": "50acb1a4-75cc-4697-8fa8-a6e6d5cbe28a",
   "metadata": {},
   "outputs": [],
   "source": [
    "# Reinitialize RFClassifier using tuned parameters\n",
    "rf_model = RandomForestClassifier(n_estimators=200, min_samples_leaf=4, min_samples_split=2, random_state=40)"
   ]
  },
  {
   "cell_type": "code",
   "execution_count": 25,
   "id": "239b857f-edd8-4c81-a4d2-2735dbb28e2f",
   "metadata": {},
   "outputs": [
    {
     "name": "stdout",
     "output_type": "stream",
     "text": [
      "Execution time: 5.384353167028166 seconds\n"
     ]
    }
   ],
   "source": [
    "# Train the model\n",
    "start_time = time.perf_counter()\n",
    "\n",
    "rf_model = rf_model.fit(X_train_scaled, y_train_resampled)\n",
    "\n",
    "end_time = time.perf_counter()\n",
    "rf_total = end_time - start_time\n",
    "\n",
    "print(f'Execution time: {rf_total} seconds')"
   ]
  },
  {
   "cell_type": "code",
   "execution_count": 26,
   "id": "e75a5efe-189d-4896-a3d3-5eff57390d04",
   "metadata": {},
   "outputs": [],
   "source": [
    "# Make predictions using the testing data\n",
    "rf_predictions = rf_model.predict(X_test_scaled)"
   ]
  },
  {
   "cell_type": "code",
   "execution_count": 27,
   "id": "a62c044d-f4d2-43c1-a4bd-b87674f28f36",
   "metadata": {},
   "outputs": [
    {
     "data": {
      "text/html": [
       "<div>\n",
       "<style scoped>\n",
       "    .dataframe tbody tr th:only-of-type {\n",
       "        vertical-align: middle;\n",
       "    }\n",
       "\n",
       "    .dataframe tbody tr th {\n",
       "        vertical-align: top;\n",
       "    }\n",
       "\n",
       "    .dataframe thead th {\n",
       "        text-align: right;\n",
       "    }\n",
       "</style>\n",
       "<table border=\"1\" class=\"dataframe\">\n",
       "  <thead>\n",
       "    <tr style=\"text-align: right;\">\n",
       "      <th></th>\n",
       "      <th>Predicted 0</th>\n",
       "      <th>Predicted 1</th>\n",
       "    </tr>\n",
       "  </thead>\n",
       "  <tbody>\n",
       "    <tr>\n",
       "      <th>Actual 0</th>\n",
       "      <td>10541</td>\n",
       "      <td>46</td>\n",
       "    </tr>\n",
       "    <tr>\n",
       "      <th>Actual 1</th>\n",
       "      <td>66</td>\n",
       "      <td>285</td>\n",
       "    </tr>\n",
       "  </tbody>\n",
       "</table>\n",
       "</div>"
      ],
      "text/plain": [
       "          Predicted 0  Predicted 1\n",
       "Actual 0        10541           46\n",
       "Actual 1           66          285"
      ]
     },
     "execution_count": 27,
     "metadata": {},
     "output_type": "execute_result"
    }
   ],
   "source": [
    "# Display confusion matrix as dataframe\n",
    "cm2 = confusion_matrix(y_test,rf_predictions)\n",
    "\n",
    "pd.DataFrame(cm2, index=['Actual 0','Actual 1'],columns=['Predicted 0', 'Predicted 1'])"
   ]
  },
  {
   "cell_type": "code",
   "execution_count": 28,
   "id": "f4d49ab0-e789-49da-a365-6f2cb1fdd501",
   "metadata": {},
   "outputs": [
    {
     "name": "stdout",
     "output_type": "stream",
     "text": [
      "              precision    recall  f1-score   support\n",
      "\n",
      "         0.0       0.99      1.00      0.99     10587\n",
      "         1.0       0.86      0.81      0.84       351\n",
      "\n",
      "    accuracy                           0.99     10938\n",
      "   macro avg       0.93      0.90      0.92     10938\n",
      "weighted avg       0.99      0.99      0.99     10938\n",
      "\n"
     ]
    }
   ],
   "source": [
    "# Display classification report for RandomForest model\n",
    "rf_class_report = classification_report(y_test, rf_predictions)\n",
    "print(rf_class_report)"
   ]
  },
  {
   "cell_type": "markdown",
   "id": "8fa4dd5c-6062-4084-8403-a78184a546e5",
   "metadata": {},
   "source": [
    "* Version 1: P 0.80, R 0.74, F1 0.77\n",
    "* Version 2: P 0.88, R 0.79, F1 0.83\n",
    "* Version 3: "
   ]
  },
  {
   "cell_type": "code",
   "execution_count": 29,
   "id": "fb2bc7d5-a91d-435e-bf66-2a241db2a3c0",
   "metadata": {},
   "outputs": [
    {
     "data": {
      "text/plain": [
       "[(0.5850699622556885, 'NUM_OF_DLQ_MONTHS'),\n",
       " (0.03657779062718892, 'FLAG_OWN_REALTY_N'),\n",
       " (0.030490949284463296, 'CODE_GENDER_M'),\n",
       " (0.02885101952643804, 'NAME_FAMILY_STATUS_Married'),\n",
       " (0.02688364706459729, 'FLAG_OWN_CAR_N'),\n",
       " (0.026859719220527257, 'CODE_GENDER_F'),\n",
       " (0.026193729638058185, 'FLAG_OWN_CAR_Y'),\n",
       " (0.02502167934081069, 'NUM_OF_MONTHS'),\n",
       " (0.024976066151759863, 'FLAG_OWN_REALTY_Y'),\n",
       " (0.016717758139906766, 'NAME_INCOME_TYPE_Commercial associate'),\n",
       " (0.01643308184678869, 'NAME_INCOME_TYPE_Working'),\n",
       " (0.01585103985705081, 'CNT_FAM_MEMBERS'),\n",
       " (0.015156901065201922, 'NAME_EDUCATION_TYPE_Secondary / secondary special'),\n",
       " (0.013552967422255098, 'AMT_INCOME_TOTAL'),\n",
       " (0.01335446653646773, 'DAYS_BIRTH'),\n",
       " (0.012082152824484082, 'DAYS_EMPLOYED'),\n",
       " (0.011715751894828009, 'NAME_FAMILY_STATUS_Single / not married'),\n",
       " (0.0102503901644818, 'OCCUPATION_TYPE_Laborers'),\n",
       " (0.008480605506581978, 'NAME_EDUCATION_TYPE_Higher education'),\n",
       " (0.006006924615785311, 'NAME_FAMILY_STATUS_Civil marriage'),\n",
       " (0.0047674778711208985, 'OCCUPATION_TYPE_Managers'),\n",
       " (0.004637880670816371, 'CNT_CHILDREN'),\n",
       " (0.0045972694677003005, 'NAME_HOUSING_TYPE_House / apartment'),\n",
       " (0.00415447144022033, 'OCCUPATION_TYPE_NULL'),\n",
       " (0.0039559271330108095, 'OCCUPATION_TYPE_Sales staff'),\n",
       " (0.0034373011003376065, 'OCCUPATION_TYPE_Core staff'),\n",
       " (0.00329546855304013, 'NAME_INCOME_TYPE_State servant'),\n",
       " (0.002669686586190968, 'OCCUPATION_TYPE_Drivers'),\n",
       " (0.0023505259635502184, 'OCCUPATION_TYPE_Cooking staff'),\n",
       " (0.002323474692093092, 'NAME_EDUCATION_TYPE_Incomplete higher'),\n",
       " (0.002238789108005807, 'NAME_FAMILY_STATUS_Widow'),\n",
       " (0.002125893985950305, 'NAME_FAMILY_STATUS_Separated'),\n",
       " (0.0015293983895028718, 'OCCUPATION_TYPE_High skill tech staff'),\n",
       " (0.0011649580901438308, 'NAME_INCOME_TYPE_Pensioner'),\n",
       " (0.0011312845281597334, 'NAME_HOUSING_TYPE_With parents'),\n",
       " (0.0008118567731665419, 'NAME_HOUSING_TYPE_Municipal apartment'),\n",
       " (0.0005773862726185616, 'OCCUPATION_TYPE_Medicine staff'),\n",
       " (0.0005484950182895053, 'OCCUPATION_TYPE_HR staff'),\n",
       " (0.0005461181029310753, 'OCCUPATION_TYPE_Security staff'),\n",
       " (0.0004735321741734173, 'OCCUPATION_TYPE_Accountants'),\n",
       " (0.0004329195257225895, 'NAME_EDUCATION_TYPE_Lower secondary'),\n",
       " (0.0003492464349756852, 'OCCUPATION_TYPE_Waiters/barmen staff'),\n",
       " (0.00034300456441076275, 'OCCUPATION_TYPE_Cleaning staff'),\n",
       " (0.0002616726997600767, 'OCCUPATION_TYPE_Low-skill Laborers'),\n",
       " (0.0001907699286372606, 'OCCUPATION_TYPE_IT staff'),\n",
       " (0.00018308314011514996, 'NAME_HOUSING_TYPE_Rented apartment'),\n",
       " (0.00016414580539087916, 'NAME_HOUSING_TYPE_Office apartment'),\n",
       " (7.2048255124061e-05, 'NAME_HOUSING_TYPE_Co-op apartment'),\n",
       " (5.646868317080766e-05, 'OCCUPATION_TYPE_Private service staff'),\n",
       " (5.597450674086259e-05, 'OCCUPATION_TYPE_Realty agents'),\n",
       " (2.4004682830509582e-05, 'OCCUPATION_TYPE_Secretaries'),\n",
       " (2.859437129105008e-06, 'NAME_EDUCATION_TYPE_Academic degree'),\n",
       " (3.431605591007679e-09, 'NAME_INCOME_TYPE_Student')]"
      ]
     },
     "execution_count": 29,
     "metadata": {},
     "output_type": "execute_result"
    }
   ],
   "source": [
    "# Display the importance of the features per the RF model, sorted by least to most important\n",
    "sorted(zip(rf_model.feature_importances_, X.columns), reverse=True)"
   ]
  },
  {
   "cell_type": "markdown",
   "id": "1d1ee52b-ee89-4003-a231-51bb42b104e6",
   "metadata": {},
   "source": [
    "### Cross Validation"
   ]
  },
  {
   "cell_type": "code",
   "execution_count": 30,
   "id": "bbe6e683-54a2-424e-aa49-d07cadf8ee58",
   "metadata": {},
   "outputs": [],
   "source": [
    "# Define pipeline for Cross-Validation of rf model\n",
    "pipeline2 = Pipeline([\n",
    "    ('scaler', StandardScaler()), # Standardize the training data for each fold\n",
    "    ('smote',SMOTE(random_state=42)), # Resample training data\n",
    "    ('classifier', rf_model) # use our RF model\n",
    "])"
   ]
  },
  {
   "cell_type": "code",
   "execution_count": 31,
   "id": "9e9592f6-b98d-4dbb-aef6-f4a2f06a702c",
   "metadata": {},
   "outputs": [
    {
     "name": "stdout",
     "output_type": "stream",
     "text": [
      "Execution time: 64.9139832080109 seconds\n"
     ]
    }
   ],
   "source": [
    "# run cross_val_score on the entire dataset. Show total execution time\n",
    "start_time = time.perf_counter()\n",
    "\n",
    "rf_cv_scores = cross_val_score(pipeline2, X, y, cv=cv, scoring= recall)\n",
    "\n",
    "end_time = time.perf_counter()\n",
    "total = end_time - start_time\n",
    "\n",
    "print(f'Execution time: {total} seconds')"
   ]
  },
  {
   "cell_type": "code",
   "execution_count": 32,
   "id": "d649c410-6c75-4965-b3dc-b5479edbc726",
   "metadata": {},
   "outputs": [
    {
     "name": "stdout",
     "output_type": "stream",
     "text": [
      "Average Specificity Score 0.9385267275097784\n"
     ]
    }
   ],
   "source": [
    "print(f\"Average Specificity Score {np.mean(rf_cv_scores)}\")"
   ]
  },
  {
   "cell_type": "markdown",
   "id": "53176748-ad13-4394-956a-669304335344",
   "metadata": {},
   "source": [
    "## XGBoost"
   ]
  },
  {
   "cell_type": "markdown",
   "id": "16050f12-082e-4c80-9045-82e617419c2f",
   "metadata": {},
   "source": [
    "### Using `X_train`, `X_test` data"
   ]
  },
  {
   "cell_type": "code",
   "execution_count": 33,
   "id": "00f536f0-664a-42f5-b8bc-b388f51b1705",
   "metadata": {},
   "outputs": [
    {
     "data": {
      "text/html": [
       "<style>#sk-container-id-2 {\n",
       "  /* Definition of color scheme common for light and dark mode */\n",
       "  --sklearn-color-text: black;\n",
       "  --sklearn-color-line: gray;\n",
       "  /* Definition of color scheme for unfitted estimators */\n",
       "  --sklearn-color-unfitted-level-0: #fff5e6;\n",
       "  --sklearn-color-unfitted-level-1: #f6e4d2;\n",
       "  --sklearn-color-unfitted-level-2: #ffe0b3;\n",
       "  --sklearn-color-unfitted-level-3: chocolate;\n",
       "  /* Definition of color scheme for fitted estimators */\n",
       "  --sklearn-color-fitted-level-0: #f0f8ff;\n",
       "  --sklearn-color-fitted-level-1: #d4ebff;\n",
       "  --sklearn-color-fitted-level-2: #b3dbfd;\n",
       "  --sklearn-color-fitted-level-3: cornflowerblue;\n",
       "\n",
       "  /* Specific color for light theme */\n",
       "  --sklearn-color-text-on-default-background: var(--sg-text-color, var(--theme-code-foreground, var(--jp-content-font-color1, black)));\n",
       "  --sklearn-color-background: var(--sg-background-color, var(--theme-background, var(--jp-layout-color0, white)));\n",
       "  --sklearn-color-border-box: var(--sg-text-color, var(--theme-code-foreground, var(--jp-content-font-color1, black)));\n",
       "  --sklearn-color-icon: #696969;\n",
       "\n",
       "  @media (prefers-color-scheme: dark) {\n",
       "    /* Redefinition of color scheme for dark theme */\n",
       "    --sklearn-color-text-on-default-background: var(--sg-text-color, var(--theme-code-foreground, var(--jp-content-font-color1, white)));\n",
       "    --sklearn-color-background: var(--sg-background-color, var(--theme-background, var(--jp-layout-color0, #111)));\n",
       "    --sklearn-color-border-box: var(--sg-text-color, var(--theme-code-foreground, var(--jp-content-font-color1, white)));\n",
       "    --sklearn-color-icon: #878787;\n",
       "  }\n",
       "}\n",
       "\n",
       "#sk-container-id-2 {\n",
       "  color: var(--sklearn-color-text);\n",
       "}\n",
       "\n",
       "#sk-container-id-2 pre {\n",
       "  padding: 0;\n",
       "}\n",
       "\n",
       "#sk-container-id-2 input.sk-hidden--visually {\n",
       "  border: 0;\n",
       "  clip: rect(1px 1px 1px 1px);\n",
       "  clip: rect(1px, 1px, 1px, 1px);\n",
       "  height: 1px;\n",
       "  margin: -1px;\n",
       "  overflow: hidden;\n",
       "  padding: 0;\n",
       "  position: absolute;\n",
       "  width: 1px;\n",
       "}\n",
       "\n",
       "#sk-container-id-2 div.sk-dashed-wrapped {\n",
       "  border: 1px dashed var(--sklearn-color-line);\n",
       "  margin: 0 0.4em 0.5em 0.4em;\n",
       "  box-sizing: border-box;\n",
       "  padding-bottom: 0.4em;\n",
       "  background-color: var(--sklearn-color-background);\n",
       "}\n",
       "\n",
       "#sk-container-id-2 div.sk-container {\n",
       "  /* jupyter's `normalize.less` sets `[hidden] { display: none; }`\n",
       "     but bootstrap.min.css set `[hidden] { display: none !important; }`\n",
       "     so we also need the `!important` here to be able to override the\n",
       "     default hidden behavior on the sphinx rendered scikit-learn.org.\n",
       "     See: https://github.com/scikit-learn/scikit-learn/issues/21755 */\n",
       "  display: inline-block !important;\n",
       "  position: relative;\n",
       "}\n",
       "\n",
       "#sk-container-id-2 div.sk-text-repr-fallback {\n",
       "  display: none;\n",
       "}\n",
       "\n",
       "div.sk-parallel-item,\n",
       "div.sk-serial,\n",
       "div.sk-item {\n",
       "  /* draw centered vertical line to link estimators */\n",
       "  background-image: linear-gradient(var(--sklearn-color-text-on-default-background), var(--sklearn-color-text-on-default-background));\n",
       "  background-size: 2px 100%;\n",
       "  background-repeat: no-repeat;\n",
       "  background-position: center center;\n",
       "}\n",
       "\n",
       "/* Parallel-specific style estimator block */\n",
       "\n",
       "#sk-container-id-2 div.sk-parallel-item::after {\n",
       "  content: \"\";\n",
       "  width: 100%;\n",
       "  border-bottom: 2px solid var(--sklearn-color-text-on-default-background);\n",
       "  flex-grow: 1;\n",
       "}\n",
       "\n",
       "#sk-container-id-2 div.sk-parallel {\n",
       "  display: flex;\n",
       "  align-items: stretch;\n",
       "  justify-content: center;\n",
       "  background-color: var(--sklearn-color-background);\n",
       "  position: relative;\n",
       "}\n",
       "\n",
       "#sk-container-id-2 div.sk-parallel-item {\n",
       "  display: flex;\n",
       "  flex-direction: column;\n",
       "}\n",
       "\n",
       "#sk-container-id-2 div.sk-parallel-item:first-child::after {\n",
       "  align-self: flex-end;\n",
       "  width: 50%;\n",
       "}\n",
       "\n",
       "#sk-container-id-2 div.sk-parallel-item:last-child::after {\n",
       "  align-self: flex-start;\n",
       "  width: 50%;\n",
       "}\n",
       "\n",
       "#sk-container-id-2 div.sk-parallel-item:only-child::after {\n",
       "  width: 0;\n",
       "}\n",
       "\n",
       "/* Serial-specific style estimator block */\n",
       "\n",
       "#sk-container-id-2 div.sk-serial {\n",
       "  display: flex;\n",
       "  flex-direction: column;\n",
       "  align-items: center;\n",
       "  background-color: var(--sklearn-color-background);\n",
       "  padding-right: 1em;\n",
       "  padding-left: 1em;\n",
       "}\n",
       "\n",
       "\n",
       "/* Toggleable style: style used for estimator/Pipeline/ColumnTransformer box that is\n",
       "clickable and can be expanded/collapsed.\n",
       "- Pipeline and ColumnTransformer use this feature and define the default style\n",
       "- Estimators will overwrite some part of the style using the `sk-estimator` class\n",
       "*/\n",
       "\n",
       "/* Pipeline and ColumnTransformer style (default) */\n",
       "\n",
       "#sk-container-id-2 div.sk-toggleable {\n",
       "  /* Default theme specific background. It is overwritten whether we have a\n",
       "  specific estimator or a Pipeline/ColumnTransformer */\n",
       "  background-color: var(--sklearn-color-background);\n",
       "}\n",
       "\n",
       "/* Toggleable label */\n",
       "#sk-container-id-2 label.sk-toggleable__label {\n",
       "  cursor: pointer;\n",
       "  display: block;\n",
       "  width: 100%;\n",
       "  margin-bottom: 0;\n",
       "  padding: 0.5em;\n",
       "  box-sizing: border-box;\n",
       "  text-align: center;\n",
       "}\n",
       "\n",
       "#sk-container-id-2 label.sk-toggleable__label-arrow:before {\n",
       "  /* Arrow on the left of the label */\n",
       "  content: \"▸\";\n",
       "  float: left;\n",
       "  margin-right: 0.25em;\n",
       "  color: var(--sklearn-color-icon);\n",
       "}\n",
       "\n",
       "#sk-container-id-2 label.sk-toggleable__label-arrow:hover:before {\n",
       "  color: var(--sklearn-color-text);\n",
       "}\n",
       "\n",
       "/* Toggleable content - dropdown */\n",
       "\n",
       "#sk-container-id-2 div.sk-toggleable__content {\n",
       "  max-height: 0;\n",
       "  max-width: 0;\n",
       "  overflow: hidden;\n",
       "  text-align: left;\n",
       "  /* unfitted */\n",
       "  background-color: var(--sklearn-color-unfitted-level-0);\n",
       "}\n",
       "\n",
       "#sk-container-id-2 div.sk-toggleable__content.fitted {\n",
       "  /* fitted */\n",
       "  background-color: var(--sklearn-color-fitted-level-0);\n",
       "}\n",
       "\n",
       "#sk-container-id-2 div.sk-toggleable__content pre {\n",
       "  margin: 0.2em;\n",
       "  border-radius: 0.25em;\n",
       "  color: var(--sklearn-color-text);\n",
       "  /* unfitted */\n",
       "  background-color: var(--sklearn-color-unfitted-level-0);\n",
       "}\n",
       "\n",
       "#sk-container-id-2 div.sk-toggleable__content.fitted pre {\n",
       "  /* unfitted */\n",
       "  background-color: var(--sklearn-color-fitted-level-0);\n",
       "}\n",
       "\n",
       "#sk-container-id-2 input.sk-toggleable__control:checked~div.sk-toggleable__content {\n",
       "  /* Expand drop-down */\n",
       "  max-height: 200px;\n",
       "  max-width: 100%;\n",
       "  overflow: auto;\n",
       "}\n",
       "\n",
       "#sk-container-id-2 input.sk-toggleable__control:checked~label.sk-toggleable__label-arrow:before {\n",
       "  content: \"▾\";\n",
       "}\n",
       "\n",
       "/* Pipeline/ColumnTransformer-specific style */\n",
       "\n",
       "#sk-container-id-2 div.sk-label input.sk-toggleable__control:checked~label.sk-toggleable__label {\n",
       "  color: var(--sklearn-color-text);\n",
       "  background-color: var(--sklearn-color-unfitted-level-2);\n",
       "}\n",
       "\n",
       "#sk-container-id-2 div.sk-label.fitted input.sk-toggleable__control:checked~label.sk-toggleable__label {\n",
       "  background-color: var(--sklearn-color-fitted-level-2);\n",
       "}\n",
       "\n",
       "/* Estimator-specific style */\n",
       "\n",
       "/* Colorize estimator box */\n",
       "#sk-container-id-2 div.sk-estimator input.sk-toggleable__control:checked~label.sk-toggleable__label {\n",
       "  /* unfitted */\n",
       "  background-color: var(--sklearn-color-unfitted-level-2);\n",
       "}\n",
       "\n",
       "#sk-container-id-2 div.sk-estimator.fitted input.sk-toggleable__control:checked~label.sk-toggleable__label {\n",
       "  /* fitted */\n",
       "  background-color: var(--sklearn-color-fitted-level-2);\n",
       "}\n",
       "\n",
       "#sk-container-id-2 div.sk-label label.sk-toggleable__label,\n",
       "#sk-container-id-2 div.sk-label label {\n",
       "  /* The background is the default theme color */\n",
       "  color: var(--sklearn-color-text-on-default-background);\n",
       "}\n",
       "\n",
       "/* On hover, darken the color of the background */\n",
       "#sk-container-id-2 div.sk-label:hover label.sk-toggleable__label {\n",
       "  color: var(--sklearn-color-text);\n",
       "  background-color: var(--sklearn-color-unfitted-level-2);\n",
       "}\n",
       "\n",
       "/* Label box, darken color on hover, fitted */\n",
       "#sk-container-id-2 div.sk-label.fitted:hover label.sk-toggleable__label.fitted {\n",
       "  color: var(--sklearn-color-text);\n",
       "  background-color: var(--sklearn-color-fitted-level-2);\n",
       "}\n",
       "\n",
       "/* Estimator label */\n",
       "\n",
       "#sk-container-id-2 div.sk-label label {\n",
       "  font-family: monospace;\n",
       "  font-weight: bold;\n",
       "  display: inline-block;\n",
       "  line-height: 1.2em;\n",
       "}\n",
       "\n",
       "#sk-container-id-2 div.sk-label-container {\n",
       "  text-align: center;\n",
       "}\n",
       "\n",
       "/* Estimator-specific */\n",
       "#sk-container-id-2 div.sk-estimator {\n",
       "  font-family: monospace;\n",
       "  border: 1px dotted var(--sklearn-color-border-box);\n",
       "  border-radius: 0.25em;\n",
       "  box-sizing: border-box;\n",
       "  margin-bottom: 0.5em;\n",
       "  /* unfitted */\n",
       "  background-color: var(--sklearn-color-unfitted-level-0);\n",
       "}\n",
       "\n",
       "#sk-container-id-2 div.sk-estimator.fitted {\n",
       "  /* fitted */\n",
       "  background-color: var(--sklearn-color-fitted-level-0);\n",
       "}\n",
       "\n",
       "/* on hover */\n",
       "#sk-container-id-2 div.sk-estimator:hover {\n",
       "  /* unfitted */\n",
       "  background-color: var(--sklearn-color-unfitted-level-2);\n",
       "}\n",
       "\n",
       "#sk-container-id-2 div.sk-estimator.fitted:hover {\n",
       "  /* fitted */\n",
       "  background-color: var(--sklearn-color-fitted-level-2);\n",
       "}\n",
       "\n",
       "/* Specification for estimator info (e.g. \"i\" and \"?\") */\n",
       "\n",
       "/* Common style for \"i\" and \"?\" */\n",
       "\n",
       ".sk-estimator-doc-link,\n",
       "a:link.sk-estimator-doc-link,\n",
       "a:visited.sk-estimator-doc-link {\n",
       "  float: right;\n",
       "  font-size: smaller;\n",
       "  line-height: 1em;\n",
       "  font-family: monospace;\n",
       "  background-color: var(--sklearn-color-background);\n",
       "  border-radius: 1em;\n",
       "  height: 1em;\n",
       "  width: 1em;\n",
       "  text-decoration: none !important;\n",
       "  margin-left: 1ex;\n",
       "  /* unfitted */\n",
       "  border: var(--sklearn-color-unfitted-level-1) 1pt solid;\n",
       "  color: var(--sklearn-color-unfitted-level-1);\n",
       "}\n",
       "\n",
       ".sk-estimator-doc-link.fitted,\n",
       "a:link.sk-estimator-doc-link.fitted,\n",
       "a:visited.sk-estimator-doc-link.fitted {\n",
       "  /* fitted */\n",
       "  border: var(--sklearn-color-fitted-level-1) 1pt solid;\n",
       "  color: var(--sklearn-color-fitted-level-1);\n",
       "}\n",
       "\n",
       "/* On hover */\n",
       "div.sk-estimator:hover .sk-estimator-doc-link:hover,\n",
       ".sk-estimator-doc-link:hover,\n",
       "div.sk-label-container:hover .sk-estimator-doc-link:hover,\n",
       ".sk-estimator-doc-link:hover {\n",
       "  /* unfitted */\n",
       "  background-color: var(--sklearn-color-unfitted-level-3);\n",
       "  color: var(--sklearn-color-background);\n",
       "  text-decoration: none;\n",
       "}\n",
       "\n",
       "div.sk-estimator.fitted:hover .sk-estimator-doc-link.fitted:hover,\n",
       ".sk-estimator-doc-link.fitted:hover,\n",
       "div.sk-label-container:hover .sk-estimator-doc-link.fitted:hover,\n",
       ".sk-estimator-doc-link.fitted:hover {\n",
       "  /* fitted */\n",
       "  background-color: var(--sklearn-color-fitted-level-3);\n",
       "  color: var(--sklearn-color-background);\n",
       "  text-decoration: none;\n",
       "}\n",
       "\n",
       "/* Span, style for the box shown on hovering the info icon */\n",
       ".sk-estimator-doc-link span {\n",
       "  display: none;\n",
       "  z-index: 9999;\n",
       "  position: relative;\n",
       "  font-weight: normal;\n",
       "  right: .2ex;\n",
       "  padding: .5ex;\n",
       "  margin: .5ex;\n",
       "  width: min-content;\n",
       "  min-width: 20ex;\n",
       "  max-width: 50ex;\n",
       "  color: var(--sklearn-color-text);\n",
       "  box-shadow: 2pt 2pt 4pt #999;\n",
       "  /* unfitted */\n",
       "  background: var(--sklearn-color-unfitted-level-0);\n",
       "  border: .5pt solid var(--sklearn-color-unfitted-level-3);\n",
       "}\n",
       "\n",
       ".sk-estimator-doc-link.fitted span {\n",
       "  /* fitted */\n",
       "  background: var(--sklearn-color-fitted-level-0);\n",
       "  border: var(--sklearn-color-fitted-level-3);\n",
       "}\n",
       "\n",
       ".sk-estimator-doc-link:hover span {\n",
       "  display: block;\n",
       "}\n",
       "\n",
       "/* \"?\"-specific style due to the `<a>` HTML tag */\n",
       "\n",
       "#sk-container-id-2 a.estimator_doc_link {\n",
       "  float: right;\n",
       "  font-size: 1rem;\n",
       "  line-height: 1em;\n",
       "  font-family: monospace;\n",
       "  background-color: var(--sklearn-color-background);\n",
       "  border-radius: 1rem;\n",
       "  height: 1rem;\n",
       "  width: 1rem;\n",
       "  text-decoration: none;\n",
       "  /* unfitted */\n",
       "  color: var(--sklearn-color-unfitted-level-1);\n",
       "  border: var(--sklearn-color-unfitted-level-1) 1pt solid;\n",
       "}\n",
       "\n",
       "#sk-container-id-2 a.estimator_doc_link.fitted {\n",
       "  /* fitted */\n",
       "  border: var(--sklearn-color-fitted-level-1) 1pt solid;\n",
       "  color: var(--sklearn-color-fitted-level-1);\n",
       "}\n",
       "\n",
       "/* On hover */\n",
       "#sk-container-id-2 a.estimator_doc_link:hover {\n",
       "  /* unfitted */\n",
       "  background-color: var(--sklearn-color-unfitted-level-3);\n",
       "  color: var(--sklearn-color-background);\n",
       "  text-decoration: none;\n",
       "}\n",
       "\n",
       "#sk-container-id-2 a.estimator_doc_link.fitted:hover {\n",
       "  /* fitted */\n",
       "  background-color: var(--sklearn-color-fitted-level-3);\n",
       "}\n",
       "</style><div id=\"sk-container-id-2\" class=\"sk-top-container\"><div class=\"sk-text-repr-fallback\"><pre>XGBClassifier(base_score=None, booster=None, callbacks=None,\n",
       "              colsample_bylevel=None, colsample_bynode=None,\n",
       "              colsample_bytree=None, device=None, early_stopping_rounds=None,\n",
       "              enable_categorical=False, eta=0.1, eval_metric=&#x27;logloss&#x27;,\n",
       "              feature_types=None, gamma=None, grow_policy=None,\n",
       "              importance_type=None, interaction_constraints=None,\n",
       "              learning_rate=None, max_bin=None, max_cat_threshold=None,\n",
       "              max_cat_to_onehot=None, max_delta_step=None, max_depth=None,\n",
       "              max_leaves=None, min_child_weight=None, missing=nan,\n",
       "              monotone_constraints=None, multi_strategy=None, n_estimators=100,\n",
       "              n_jobs=None, num_parallel_tree=None, ...)</pre><b>In a Jupyter environment, please rerun this cell to show the HTML representation or trust the notebook. <br />On GitHub, the HTML representation is unable to render, please try loading this page with nbviewer.org.</b></div><div class=\"sk-container\" hidden><div class=\"sk-item\"><div class=\"sk-estimator  sk-toggleable\"><input class=\"sk-toggleable__control sk-hidden--visually\" id=\"sk-estimator-id-2\" type=\"checkbox\" checked><label for=\"sk-estimator-id-2\" class=\"sk-toggleable__label  sk-toggleable__label-arrow \">&nbsp;XGBClassifier<span class=\"sk-estimator-doc-link \">i<span>Not fitted</span></span></label><div class=\"sk-toggleable__content \"><pre>XGBClassifier(base_score=None, booster=None, callbacks=None,\n",
       "              colsample_bylevel=None, colsample_bynode=None,\n",
       "              colsample_bytree=None, device=None, early_stopping_rounds=None,\n",
       "              enable_categorical=False, eta=0.1, eval_metric=&#x27;logloss&#x27;,\n",
       "              feature_types=None, gamma=None, grow_policy=None,\n",
       "              importance_type=None, interaction_constraints=None,\n",
       "              learning_rate=None, max_bin=None, max_cat_threshold=None,\n",
       "              max_cat_to_onehot=None, max_delta_step=None, max_depth=None,\n",
       "              max_leaves=None, min_child_weight=None, missing=nan,\n",
       "              monotone_constraints=None, multi_strategy=None, n_estimators=100,\n",
       "              n_jobs=None, num_parallel_tree=None, ...)</pre></div> </div></div></div></div>"
      ],
      "text/plain": [
       "XGBClassifier(base_score=None, booster=None, callbacks=None,\n",
       "              colsample_bylevel=None, colsample_bynode=None,\n",
       "              colsample_bytree=None, device=None, early_stopping_rounds=None,\n",
       "              enable_categorical=False, eta=0.1, eval_metric='logloss',\n",
       "              feature_types=None, gamma=None, grow_policy=None,\n",
       "              importance_type=None, interaction_constraints=None,\n",
       "              learning_rate=None, max_bin=None, max_cat_threshold=None,\n",
       "              max_cat_to_onehot=None, max_delta_step=None, max_depth=None,\n",
       "              max_leaves=None, min_child_weight=None, missing=nan,\n",
       "              monotone_constraints=None, multi_strategy=None, n_estimators=100,\n",
       "              n_jobs=None, num_parallel_tree=None, ...)"
      ]
     },
     "execution_count": 33,
     "metadata": {},
     "output_type": "execute_result"
    }
   ],
   "source": [
    "# Initialize XGBClassifier\n",
    "xg_model = XGBClassifier(\n",
    "    objective='binary:logistic',\n",
    "    n_estimators=100,\n",
    "    eval_metric= 'logloss',\n",
    "    eta= 0.1, # learning rate\n",
    "    random_state=47)\n",
    "\n",
    "xg_model"
   ]
  },
  {
   "cell_type": "code",
   "execution_count": 34,
   "id": "241a2a09-4cd8-42a6-a7aa-2fe6326b4bdd",
   "metadata": {},
   "outputs": [
    {
     "name": "stdout",
     "output_type": "stream",
     "text": [
      "Execution time: 0.2761467080563307 seconds\n"
     ]
    }
   ],
   "source": [
    "# Train the model\n",
    "start_time = time.perf_counter()\n",
    "\n",
    "xg_model = xg_model.fit(X_train_scaled, y_train_resampled)\n",
    "\n",
    "end_time = time.perf_counter()\n",
    "xg_total = end_time - start_time\n",
    "\n",
    "print(f'Execution time: {xg_total} seconds')"
   ]
  },
  {
   "cell_type": "code",
   "execution_count": 35,
   "id": "72b0c6aa-f4f7-425d-ab5d-7044f49d48fc",
   "metadata": {},
   "outputs": [],
   "source": [
    "# Make predictions\n",
    "xg_predictions = xg_model.predict(X_test_scaled)"
   ]
  },
  {
   "cell_type": "code",
   "execution_count": 36,
   "id": "ffe38e2c-c16d-48b3-89ae-4b9350c42e1a",
   "metadata": {},
   "outputs": [
    {
     "data": {
      "text/html": [
       "<div>\n",
       "<style scoped>\n",
       "    .dataframe tbody tr th:only-of-type {\n",
       "        vertical-align: middle;\n",
       "    }\n",
       "\n",
       "    .dataframe tbody tr th {\n",
       "        vertical-align: top;\n",
       "    }\n",
       "\n",
       "    .dataframe thead th {\n",
       "        text-align: right;\n",
       "    }\n",
       "</style>\n",
       "<table border=\"1\" class=\"dataframe\">\n",
       "  <thead>\n",
       "    <tr style=\"text-align: right;\">\n",
       "      <th></th>\n",
       "      <th>Predicted 0</th>\n",
       "      <th>Predicted 1</th>\n",
       "    </tr>\n",
       "  </thead>\n",
       "  <tbody>\n",
       "    <tr>\n",
       "      <th>Actual 0</th>\n",
       "      <td>10584</td>\n",
       "      <td>3</td>\n",
       "    </tr>\n",
       "    <tr>\n",
       "      <th>Actual 1</th>\n",
       "      <td>1</td>\n",
       "      <td>350</td>\n",
       "    </tr>\n",
       "  </tbody>\n",
       "</table>\n",
       "</div>"
      ],
      "text/plain": [
       "          Predicted 0  Predicted 1\n",
       "Actual 0        10584            3\n",
       "Actual 1            1          350"
      ]
     },
     "execution_count": 36,
     "metadata": {},
     "output_type": "execute_result"
    }
   ],
   "source": [
    "# Display confusion matrix as dataframe\n",
    "cm3 = confusion_matrix(y_test,xg_predictions)\n",
    "\n",
    "pd.DataFrame(cm3, index=['Actual 0','Actual 1'],columns=['Predicted 0', 'Predicted 1'])"
   ]
  },
  {
   "cell_type": "code",
   "execution_count": 37,
   "id": "7bd30082-1518-4d22-9342-bbcde2074712",
   "metadata": {},
   "outputs": [
    {
     "name": "stdout",
     "output_type": "stream",
     "text": [
      "              precision    recall  f1-score   support\n",
      "\n",
      "         0.0       1.00      1.00      1.00     10587\n",
      "         1.0       0.99      1.00      0.99       351\n",
      "\n",
      "    accuracy                           1.00     10938\n",
      "   macro avg       1.00      1.00      1.00     10938\n",
      "weighted avg       1.00      1.00      1.00     10938\n",
      "\n"
     ]
    }
   ],
   "source": [
    "# Display classification report for XGBoost model\n",
    "xg_class_report = classification_report(y_test, xg_predictions)\n",
    "print(xg_class_report)"
   ]
  },
  {
   "cell_type": "code",
   "execution_count": 38,
   "id": "23edc3da-871f-4238-aef5-6152e8ffd9bb",
   "metadata": {},
   "outputs": [
    {
     "data": {
      "text/plain": [
       "[(0.9018393, 'NUM_OF_DLQ_MONTHS'),\n",
       " (0.072854534, 'NUM_OF_MONTHS'),\n",
       " (0.004517431, 'NAME_HOUSING_TYPE_Office apartment'),\n",
       " (0.0038179422, 'NAME_FAMILY_STATUS_Civil marriage'),\n",
       " (0.0019568922, 'DAYS_BIRTH'),\n",
       " (0.0016166396, 'NAME_FAMILY_STATUS_Single / not married'),\n",
       " (0.0015568685, 'OCCUPATION_TYPE_Laborers'),\n",
       " (0.0013778979, 'NAME_FAMILY_STATUS_Separated'),\n",
       " (0.0013078823, 'CNT_FAM_MEMBERS'),\n",
       " (0.001258495, 'NAME_HOUSING_TYPE_Municipal apartment'),\n",
       " (0.0009987198, 'CODE_GENDER_F'),\n",
       " (0.0006938686, 'NAME_EDUCATION_TYPE_Higher education'),\n",
       " (0.0006714875, 'NAME_INCOME_TYPE_Commercial associate'),\n",
       " (0.00060138386, 'NAME_FAMILY_STATUS_Married'),\n",
       " (0.0005802718, 'OCCUPATION_TYPE_Core staff'),\n",
       " (0.00054703496, 'NAME_FAMILY_STATUS_Widow'),\n",
       " (0.00050956086, 'DAYS_EMPLOYED'),\n",
       " (0.0004124554, 'OCCUPATION_TYPE_High skill tech staff'),\n",
       " (0.00038336313, 'FLAG_OWN_CAR_Y'),\n",
       " (0.00034523313, 'NAME_EDUCATION_TYPE_Secondary / secondary special'),\n",
       " (0.00033079553, 'OCCUPATION_TYPE_Managers'),\n",
       " (0.00029746487, 'FLAG_OWN_CAR_N'),\n",
       " (0.00027966528, 'OCCUPATION_TYPE_NULL'),\n",
       " (0.00027225036, 'AMT_INCOME_TOTAL'),\n",
       " (0.00024872803, 'OCCUPATION_TYPE_Private service staff'),\n",
       " (0.00023896246, 'FLAG_OWN_REALTY_N'),\n",
       " (0.00023244694, 'OCCUPATION_TYPE_Security staff'),\n",
       " (0.00019924724, 'OCCUPATION_TYPE_Medicine staff'),\n",
       " (3.4003275e-05, 'NAME_INCOME_TYPE_Working'),\n",
       " (1.919281e-05, 'OCCUPATION_TYPE_Drivers'),\n",
       " (0.0, 'OCCUPATION_TYPE_Waiters/barmen staff'),\n",
       " (0.0, 'OCCUPATION_TYPE_Secretaries'),\n",
       " (0.0, 'OCCUPATION_TYPE_Sales staff'),\n",
       " (0.0, 'OCCUPATION_TYPE_Realty agents'),\n",
       " (0.0, 'OCCUPATION_TYPE_Low-skill Laborers'),\n",
       " (0.0, 'OCCUPATION_TYPE_IT staff'),\n",
       " (0.0, 'OCCUPATION_TYPE_HR staff'),\n",
       " (0.0, 'OCCUPATION_TYPE_Cooking staff'),\n",
       " (0.0, 'OCCUPATION_TYPE_Cleaning staff'),\n",
       " (0.0, 'OCCUPATION_TYPE_Accountants'),\n",
       " (0.0, 'NAME_INCOME_TYPE_Student'),\n",
       " (0.0, 'NAME_INCOME_TYPE_State servant'),\n",
       " (0.0, 'NAME_INCOME_TYPE_Pensioner'),\n",
       " (0.0, 'NAME_HOUSING_TYPE_With parents'),\n",
       " (0.0, 'NAME_HOUSING_TYPE_Rented apartment'),\n",
       " (0.0, 'NAME_HOUSING_TYPE_House / apartment'),\n",
       " (0.0, 'NAME_HOUSING_TYPE_Co-op apartment'),\n",
       " (0.0, 'NAME_EDUCATION_TYPE_Lower secondary'),\n",
       " (0.0, 'NAME_EDUCATION_TYPE_Incomplete higher'),\n",
       " (0.0, 'NAME_EDUCATION_TYPE_Academic degree'),\n",
       " (0.0, 'FLAG_OWN_REALTY_Y'),\n",
       " (0.0, 'CODE_GENDER_M'),\n",
       " (0.0, 'CNT_CHILDREN')]"
      ]
     },
     "execution_count": 38,
     "metadata": {},
     "output_type": "execute_result"
    }
   ],
   "source": [
    "# Display the importance of the features per the XGBoost model, sorted by least to most important\n",
    "sorted(zip(xg_model.feature_importances_, X.columns), reverse=True)"
   ]
  },
  {
   "cell_type": "markdown",
   "id": "a9ee76aa-adb6-4ba9-9a93-2f722ca91ea9",
   "metadata": {},
   "source": [
    "### Cross Validation"
   ]
  },
  {
   "cell_type": "code",
   "execution_count": 39,
   "id": "3e94f1a5-1493-4b37-9954-a038f5df587d",
   "metadata": {},
   "outputs": [],
   "source": [
    "# Define pipeline for Cross-Validation of xg model\n",
    "pipeline3 = Pipeline([\n",
    "    ('scaler', StandardScaler()), # Standardize the training data for each fold\n",
    "    ('smote',SMOTE(random_state=42)), # Resample training data\n",
    "    ('classifier', xg_model) # use our RF model\n",
    "])"
   ]
  },
  {
   "cell_type": "code",
   "execution_count": 40,
   "id": "50cc4c90-8b60-4932-800b-b1a2dbb2a084",
   "metadata": {},
   "outputs": [
    {
     "name": "stdout",
     "output_type": "stream",
     "text": [
      "Execution time: 2.837905458989553 seconds\n"
     ]
    }
   ],
   "source": [
    "# Run cross_val_score on the entire dataset. Show total execution time\n",
    "start_time = time.perf_counter()\n",
    "\n",
    "xg_cv_scores = cross_val_score(pipeline3, X, y, cv=cv, scoring= recall)\n",
    "\n",
    "end_time = time.perf_counter()\n",
    "total = end_time - start_time\n",
    "\n",
    "print(f'Execution time: {total} seconds')"
   ]
  },
  {
   "cell_type": "code",
   "execution_count": 41,
   "id": "fcaa7fe7-085e-4d85-b4e8-3788eace1a5f",
   "metadata": {},
   "outputs": [
    {
     "name": "stdout",
     "output_type": "stream",
     "text": [
      "Average Specificity Score 1.0\n"
     ]
    }
   ],
   "source": [
    "print(f\"Average Specificity Score {np.mean(xg_cv_scores)}\")"
   ]
  },
  {
   "cell_type": "markdown",
   "id": "3deea399-3525-4c18-b1bb-29072fba8b48",
   "metadata": {},
   "source": [
    "## Conclusion"
   ]
  },
  {
   "cell_type": "markdown",
   "id": "e9a6749f-cdfe-4e43-a7c1-75c2fd9825a4",
   "metadata": {},
   "source": [
    "**`LogisticRegression`**"
   ]
  },
  {
   "cell_type": "code",
   "execution_count": 42,
   "id": "cd2ab45e-8b62-4d75-a402-03ebfe6ed61a",
   "metadata": {},
   "outputs": [
    {
     "name": "stdout",
     "output_type": "stream",
     "text": [
      "Execution time: 0.1328540419926867 seconds\n",
      "------------------------------------------------------------\n",
      "------------------------------------------------------------\n",
      "Classification Report:\n",
      "              precision    recall  f1-score   support\n",
      "\n",
      "         0.0       1.00      1.00      1.00     10587\n",
      "         1.0       0.91      0.99      0.95       351\n",
      "\n",
      "    accuracy                           1.00     10938\n",
      "   macro avg       0.96      0.99      0.97     10938\n",
      "weighted avg       1.00      1.00      1.00     10938\n",
      "\n",
      "------------------------------------------------------------\n",
      "------------------------------------------------------------\n",
      "Average Specificity Score from Cross Validation 0.9974431406634796\n",
      "\n",
      "\n"
     ]
    }
   ],
   "source": [
    "print(f'Execution time: {lr_total} seconds')\n",
    "print(\"-\" * 60)\n",
    "print(\"-\" * 60)\n",
    "print(\"Classification Report:\")\n",
    "print(lr_class_report)\n",
    "print(\"-\" * 60)\n",
    "print(\"-\" * 60)\n",
    "print(f\"Average Specificity Score from Cross Validation {np.mean(lr_cv_scores)}\")\n",
    "print()\n",
    "print()"
   ]
  },
  {
   "cell_type": "markdown",
   "id": "c5a79429-b42d-4757-9b01-5721c3686048",
   "metadata": {},
   "source": [
    "**`RandomForestClassifier`**"
   ]
  },
  {
   "cell_type": "code",
   "execution_count": 43,
   "id": "c6c08f4c-3e62-4ab8-a27b-78bcaef3ca14",
   "metadata": {},
   "outputs": [
    {
     "name": "stdout",
     "output_type": "stream",
     "text": [
      "Execution time: 5.384353167028166 seconds\n",
      "------------------------------------------------------------\n",
      "------------------------------------------------------------\n",
      "Classification Report:\n",
      "              precision    recall  f1-score   support\n",
      "\n",
      "         0.0       0.99      1.00      0.99     10587\n",
      "         1.0       0.86      0.81      0.84       351\n",
      "\n",
      "    accuracy                           0.99     10938\n",
      "   macro avg       0.93      0.90      0.92     10938\n",
      "weighted avg       0.99      0.99      0.99     10938\n",
      "\n",
      "------------------------------------------------------------\n",
      "------------------------------------------------------------\n",
      "Average Specificity Score from Cross Validation 0.9385267275097784\n",
      "\n",
      "\n"
     ]
    }
   ],
   "source": [
    "print(f'Execution time: {rf_total} seconds')\n",
    "print(\"-\" * 60)\n",
    "print(\"-\" * 60)\n",
    "print(\"Classification Report:\")\n",
    "print(rf_class_report)\n",
    "print(\"-\" * 60)\n",
    "print(\"-\" * 60)\n",
    "print(f\"Average Specificity Score from Cross Validation {np.mean(rf_cv_scores)}\")\n",
    "print()\n",
    "print()"
   ]
  },
  {
   "cell_type": "markdown",
   "id": "acb9a6b8-2f7c-4926-8ea3-c6935d7dc052",
   "metadata": {},
   "source": [
    "**`XGBClassifier`**"
   ]
  },
  {
   "cell_type": "code",
   "execution_count": 44,
   "id": "e5f50f64-4168-4609-ae53-9f8561216ba5",
   "metadata": {},
   "outputs": [
    {
     "name": "stdout",
     "output_type": "stream",
     "text": [
      "Execution time: 0.2761467080563307 seconds\n",
      "------------------------------------------------------------\n",
      "------------------------------------------------------------\n",
      "Classification Report:\n",
      "              precision    recall  f1-score   support\n",
      "\n",
      "         0.0       1.00      1.00      1.00     10587\n",
      "         1.0       0.99      1.00      0.99       351\n",
      "\n",
      "    accuracy                           1.00     10938\n",
      "   macro avg       1.00      1.00      1.00     10938\n",
      "weighted avg       1.00      1.00      1.00     10938\n",
      "\n",
      "------------------------------------------------------------\n",
      "------------------------------------------------------------\n",
      "Average Specificity Score from Cross Validation 1.0\n",
      "\n",
      "\n"
     ]
    }
   ],
   "source": [
    "print(f'Execution time: {xg_total} seconds')\n",
    "print(\"-\" * 60)\n",
    "print(\"-\" * 60)\n",
    "print(\"Classification Report:\")\n",
    "print(xg_class_report)\n",
    "print(\"-\" * 60)\n",
    "print(\"-\" * 60)\n",
    "print(f\"Average Specificity Score from Cross Validation {np.mean(xg_cv_scores)}\")\n",
    "print()\n",
    "print()"
   ]
  },
  {
   "cell_type": "markdown",
   "id": "fa291503-567c-4908-9116-bb77e05f09fe",
   "metadata": {},
   "source": [
    "We recommend the use of the `XGBClassifier` for the task of predicting whether an applicant is high-risk based on credit history. The recall score of the negative (1) class (aka specificity) is the highest of the three models, indicating that the model is performing the best at identifying all high-risk applicants. Additionally, the training execution time of 0.13 seconds indicates that the model is highly efficient.\n",
    "\n",
    "`RandomForestClassifier` performed the worst of the three, likely due to noise from unnecessary features. A recall score of 0.81 opens up financial liability by potentially missing high-risk cOptimizing this model would require dropping features and tuning the parameters. Additionally, the model took the longest to execute the training cell at 5.38 seconds.\n",
    "\n",
    "`LogisticRegression` also performed quite well, though the f1-score is lower than `XGBClassifier`. It also had the most efficient run time at 0.13 seconds."
   ]
  },
  {
   "cell_type": "code",
   "execution_count": null,
   "id": "dbbd8f9a-c7fc-499f-b9b0-0e8c34b06c63",
   "metadata": {},
   "outputs": [],
   "source": []
  }
 ],
 "metadata": {
  "kernelspec": {
   "display_name": "Python 3 (ipykernel)",
   "language": "python",
   "name": "python3"
  },
  "language_info": {
   "codemirror_mode": {
    "name": "ipython",
    "version": 3
   },
   "file_extension": ".py",
   "mimetype": "text/x-python",
   "name": "python",
   "nbconvert_exporter": "python",
   "pygments_lexer": "ipython3",
   "version": "3.10.14"
  }
 },
 "nbformat": 4,
 "nbformat_minor": 5
}
